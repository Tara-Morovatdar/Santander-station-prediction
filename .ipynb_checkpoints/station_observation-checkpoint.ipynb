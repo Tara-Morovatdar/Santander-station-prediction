{
 "cells": [
  {
   "cell_type": "code",
   "execution_count": 3,
   "metadata": {},
   "outputs": [],
   "source": [
    "import pandas as pd\n",
    "import numpy as np\n",
    "import io\n",
    "import os\n",
    "import calendar\n",
    "import matplotlib.pyplot as plt\n",
    "import datetime\n",
    "import seaborn as sns\n",
    "import gzip\n",
    "import zipfile\n",
    "%matplotlib inline"
   ]
  },
  {
   "cell_type": "markdown",
   "metadata": {},
   "source": [
    "## <span style=\"color:red\">*Do not run part A.Start from part B*</span>"
   ]
  },
  {
   "cell_type": "markdown",
   "metadata": {},
   "source": [
    "# A. Create a data set for 2018"
   ]
  },
  {
   "cell_type": "code",
   "execution_count": 2,
   "metadata": {},
   "outputs": [],
   "source": [
    "cols=['operator_id', 'bikes', 'spaces', 'total_docks', 'timestamp']"
   ]
  },
  {
   "cell_type": "code",
   "execution_count": 3,
   "metadata": {},
   "outputs": [],
   "source": [
    "#reding the data\n",
    "with gzip.open('/bigdata/tara/ind_london_pre2019.csv.gz', mode=\"rt\") as f:\n",
    "    ind_london_pre2019=pd.read_csv(f,index_col=False,names=cols )\n",
    "    "
   ]
  },
  {
   "cell_type": "code",
   "execution_count": 4,
   "metadata": {},
   "outputs": [
    {
     "data": {
      "text/html": [
       "<div>\n",
       "<style scoped>\n",
       "    .dataframe tbody tr th:only-of-type {\n",
       "        vertical-align: middle;\n",
       "    }\n",
       "\n",
       "    .dataframe tbody tr th {\n",
       "        vertical-align: top;\n",
       "    }\n",
       "\n",
       "    .dataframe thead th {\n",
       "        text-align: right;\n",
       "    }\n",
       "</style>\n",
       "<table border=\"1\" class=\"dataframe\">\n",
       "  <thead>\n",
       "    <tr style=\"text-align: right;\">\n",
       "      <th></th>\n",
       "      <th>operator_id</th>\n",
       "      <th>bikes</th>\n",
       "      <th>spaces</th>\n",
       "      <th>total_docks</th>\n",
       "      <th>timestamp</th>\n",
       "    </tr>\n",
       "  </thead>\n",
       "  <tbody>\n",
       "    <tr>\n",
       "      <th>0</th>\n",
       "      <td>1</td>\n",
       "      <td>2</td>\n",
       "      <td>17</td>\n",
       "      <td>0</td>\n",
       "      <td>2010-08-06 10:19:02</td>\n",
       "    </tr>\n",
       "    <tr>\n",
       "      <th>1</th>\n",
       "      <td>2</td>\n",
       "      <td>23</td>\n",
       "      <td>14</td>\n",
       "      <td>0</td>\n",
       "      <td>2010-08-06 10:19:02</td>\n",
       "    </tr>\n",
       "    <tr>\n",
       "      <th>2</th>\n",
       "      <td>3</td>\n",
       "      <td>20</td>\n",
       "      <td>12</td>\n",
       "      <td>0</td>\n",
       "      <td>2010-08-06 10:19:02</td>\n",
       "    </tr>\n",
       "    <tr>\n",
       "      <th>3</th>\n",
       "      <td>4</td>\n",
       "      <td>0</td>\n",
       "      <td>23</td>\n",
       "      <td>0</td>\n",
       "      <td>2010-08-06 10:19:02</td>\n",
       "    </tr>\n",
       "    <tr>\n",
       "      <th>4</th>\n",
       "      <td>5</td>\n",
       "      <td>11</td>\n",
       "      <td>5</td>\n",
       "      <td>0</td>\n",
       "      <td>2010-08-06 10:19:02</td>\n",
       "    </tr>\n",
       "  </tbody>\n",
       "</table>\n",
       "</div>"
      ],
      "text/plain": [
       "   operator_id  bikes  spaces  total_docks            timestamp\n",
       "0            1      2      17            0  2010-08-06 10:19:02\n",
       "1            2     23      14            0  2010-08-06 10:19:02\n",
       "2            3     20      12            0  2010-08-06 10:19:02\n",
       "3            4      0      23            0  2010-08-06 10:19:02\n",
       "4            5     11       5            0  2010-08-06 10:19:02"
      ]
     },
     "execution_count": 4,
     "metadata": {},
     "output_type": "execute_result"
    }
   ],
   "source": [
    "ind_london_pre2019.head()"
   ]
  },
  {
   "cell_type": "code",
   "execution_count": 5,
   "metadata": {},
   "outputs": [],
   "source": [
    "#remove data that are not 2018\n",
    "ind_london_2018=ind_london_pre2019[ind_london_pre2019['timestamp'].str.contains('2018')]"
   ]
  },
  {
   "cell_type": "code",
   "execution_count": 6,
   "metadata": {},
   "outputs": [
    {
     "data": {
      "text/html": [
       "<div>\n",
       "<style scoped>\n",
       "    .dataframe tbody tr th:only-of-type {\n",
       "        vertical-align: middle;\n",
       "    }\n",
       "\n",
       "    .dataframe tbody tr th {\n",
       "        vertical-align: top;\n",
       "    }\n",
       "\n",
       "    .dataframe thead th {\n",
       "        text-align: right;\n",
       "    }\n",
       "</style>\n",
       "<table border=\"1\" class=\"dataframe\">\n",
       "  <thead>\n",
       "    <tr style=\"text-align: right;\">\n",
       "      <th></th>\n",
       "      <th>operator_id</th>\n",
       "      <th>bikes</th>\n",
       "      <th>spaces</th>\n",
       "      <th>total_docks</th>\n",
       "      <th>timestamp</th>\n",
       "    </tr>\n",
       "  </thead>\n",
       "  <tbody>\n",
       "    <tr>\n",
       "      <th>0</th>\n",
       "      <td>1</td>\n",
       "      <td>9</td>\n",
       "      <td>10</td>\n",
       "      <td>19</td>\n",
       "      <td>2018-01-01 00:00:02</td>\n",
       "    </tr>\n",
       "    <tr>\n",
       "      <th>1</th>\n",
       "      <td>2</td>\n",
       "      <td>21</td>\n",
       "      <td>16</td>\n",
       "      <td>37</td>\n",
       "      <td>2018-01-01 00:00:02</td>\n",
       "    </tr>\n",
       "    <tr>\n",
       "      <th>2</th>\n",
       "      <td>3</td>\n",
       "      <td>12</td>\n",
       "      <td>20</td>\n",
       "      <td>32</td>\n",
       "      <td>2018-01-01 00:00:02</td>\n",
       "    </tr>\n",
       "    <tr>\n",
       "      <th>3</th>\n",
       "      <td>4</td>\n",
       "      <td>16</td>\n",
       "      <td>7</td>\n",
       "      <td>23</td>\n",
       "      <td>2018-01-01 00:00:02</td>\n",
       "    </tr>\n",
       "    <tr>\n",
       "      <th>4</th>\n",
       "      <td>5</td>\n",
       "      <td>10</td>\n",
       "      <td>17</td>\n",
       "      <td>27</td>\n",
       "      <td>2018-01-01 00:00:02</td>\n",
       "    </tr>\n",
       "  </tbody>\n",
       "</table>\n",
       "</div>"
      ],
      "text/plain": [
       "   operator_id  bikes  spaces  total_docks            timestamp\n",
       "0            1      9      10           19  2018-01-01 00:00:02\n",
       "1            2     21      16           37  2018-01-01 00:00:02\n",
       "2            3     12      20           32  2018-01-01 00:00:02\n",
       "3            4     16       7           23  2018-01-01 00:00:02\n",
       "4            5     10      17           27  2018-01-01 00:00:02"
      ]
     },
     "execution_count": 6,
     "metadata": {},
     "output_type": "execute_result"
    }
   ],
   "source": [
    "ind_london_2018=ind_london_2018.reset_index(drop=True)\n",
    "ind_london_2018.head()"
   ]
  },
  {
   "cell_type": "code",
   "execution_count": 7,
   "metadata": {},
   "outputs": [
    {
     "data": {
      "text/html": [
       "<div>\n",
       "<style scoped>\n",
       "    .dataframe tbody tr th:only-of-type {\n",
       "        vertical-align: middle;\n",
       "    }\n",
       "\n",
       "    .dataframe tbody tr th {\n",
       "        vertical-align: top;\n",
       "    }\n",
       "\n",
       "    .dataframe thead th {\n",
       "        text-align: right;\n",
       "    }\n",
       "</style>\n",
       "<table border=\"1\" class=\"dataframe\">\n",
       "  <thead>\n",
       "    <tr style=\"text-align: right;\">\n",
       "      <th></th>\n",
       "      <th>operator_id</th>\n",
       "      <th>bikes</th>\n",
       "      <th>spaces</th>\n",
       "      <th>total_docks</th>\n",
       "      <th>timestamp</th>\n",
       "    </tr>\n",
       "  </thead>\n",
       "  <tbody>\n",
       "    <tr>\n",
       "      <th>0</th>\n",
       "      <td>1</td>\n",
       "      <td>9</td>\n",
       "      <td>10</td>\n",
       "      <td>19</td>\n",
       "      <td>2018-01-01</td>\n",
       "    </tr>\n",
       "    <tr>\n",
       "      <th>1</th>\n",
       "      <td>2</td>\n",
       "      <td>21</td>\n",
       "      <td>16</td>\n",
       "      <td>37</td>\n",
       "      <td>2018-01-01</td>\n",
       "    </tr>\n",
       "    <tr>\n",
       "      <th>2</th>\n",
       "      <td>3</td>\n",
       "      <td>12</td>\n",
       "      <td>20</td>\n",
       "      <td>32</td>\n",
       "      <td>2018-01-01</td>\n",
       "    </tr>\n",
       "    <tr>\n",
       "      <th>3</th>\n",
       "      <td>4</td>\n",
       "      <td>16</td>\n",
       "      <td>7</td>\n",
       "      <td>23</td>\n",
       "      <td>2018-01-01</td>\n",
       "    </tr>\n",
       "    <tr>\n",
       "      <th>4</th>\n",
       "      <td>5</td>\n",
       "      <td>10</td>\n",
       "      <td>17</td>\n",
       "      <td>27</td>\n",
       "      <td>2018-01-01</td>\n",
       "    </tr>\n",
       "  </tbody>\n",
       "</table>\n",
       "</div>"
      ],
      "text/plain": [
       "   operator_id  bikes  spaces  total_docks  timestamp\n",
       "0            1      9      10           19 2018-01-01\n",
       "1            2     21      16           37 2018-01-01\n",
       "2            3     12      20           32 2018-01-01\n",
       "3            4     16       7           23 2018-01-01\n",
       "4            5     10      17           27 2018-01-01"
      ]
     },
     "execution_count": 7,
     "metadata": {},
     "output_type": "execute_result"
    }
   ],
   "source": [
    "#set the seconds to zero\n",
    "ind_london_2018['timestamp']=ind_london_2018['timestamp'].values.astype('<M8[m]')\n",
    "ind_london_2018.head()"
   ]
  },
  {
   "cell_type": "code",
   "execution_count": 8,
   "metadata": {},
   "outputs": [
    {
     "name": "stdout",
     "output_type": "stream",
     "text": [
      "<class 'pandas.core.frame.DataFrame'>\n",
      "RangeIndex: 204505214 entries, 0 to 204505213\n",
      "Data columns (total 5 columns):\n",
      "operator_id    int64\n",
      "bikes          int64\n",
      "spaces         int64\n",
      "total_docks    int64\n",
      "timestamp      datetime64[ns]\n",
      "dtypes: datetime64[ns](1), int64(4)\n",
      "memory usage: 7.6 GB\n"
     ]
    }
   ],
   "source": [
    "ind_london_2018.info()"
   ]
  },
  {
   "cell_type": "code",
   "execution_count": 9,
   "metadata": {},
   "outputs": [
    {
     "name": "stdout",
     "output_type": "stream",
     "text": [
      "<class 'pandas.core.frame.DataFrame'>\n",
      "Int64Index: 204472177 entries, 0 to 204505213\n",
      "Data columns (total 5 columns):\n",
      "operator_id    int64\n",
      "bikes          int64\n",
      "spaces         int64\n",
      "total_docks    int64\n",
      "timestamp      datetime64[ns]\n",
      "dtypes: datetime64[ns](1), int64(4)\n",
      "memory usage: 9.1 GB\n"
     ]
    }
   ],
   "source": [
    "ind_london_2018=ind_london_2018[ind_london_2018['total_docks']!=0]\n",
    "ind_london_2018.info()"
   ]
  },
  {
   "cell_type": "code",
   "execution_count": 2,
   "metadata": {},
   "outputs": [],
   "source": [
    "#ind_london_2018[(ind_london_2018['spaces']+ind_london_2018['bikes'])!= ind_london_2018['total_docks']]"
   ]
  },
  {
   "cell_type": "code",
   "execution_count": 10,
   "metadata": {},
   "outputs": [],
   "source": [
    "ind_london_2018.drop_duplicates(['timestamp','operator_id'],inplace=True)"
   ]
  },
  {
   "cell_type": "code",
   "execution_count": 12,
   "metadata": {},
   "outputs": [
    {
     "name": "stdout",
     "output_type": "stream",
     "text": [
      "<class 'pandas.core.frame.DataFrame'>\n",
      "Int64Index: 204449353 entries, 0 to 204505213\n",
      "Data columns (total 5 columns):\n",
      "operator_id    int64\n",
      "bikes          int64\n",
      "spaces         int64\n",
      "total_docks    int64\n",
      "timestamp      datetime64[ns]\n",
      "dtypes: datetime64[ns](1), int64(4)\n",
      "memory usage: 9.1 GB\n"
     ]
    }
   ],
   "source": [
    "ind_london_2018.info()"
   ]
  },
  {
   "cell_type": "code",
   "execution_count": 13,
   "metadata": {},
   "outputs": [
    {
     "data": {
      "text/plain": [
       "796"
      ]
     },
     "execution_count": 13,
     "metadata": {},
     "output_type": "execute_result"
    }
   ],
   "source": [
    "ind_london_2018['operator_id'].nunique()"
   ]
  },
  {
   "cell_type": "code",
   "execution_count": 15,
   "metadata": {},
   "outputs": [],
   "source": [
    "ind_london_2018=ind_london_2018.reset_index(drop=True)"
   ]
  },
  {
   "cell_type": "code",
   "execution_count": 16,
   "metadata": {},
   "outputs": [
    {
     "name": "stdout",
     "output_type": "stream",
     "text": [
      "<class 'pandas.core.frame.DataFrame'>\n",
      "RangeIndex: 204449353 entries, 0 to 204449352\n",
      "Data columns (total 5 columns):\n",
      "operator_id    int64\n",
      "bikes          int64\n",
      "spaces         int64\n",
      "total_docks    int64\n",
      "timestamp      datetime64[ns]\n",
      "dtypes: datetime64[ns](1), int64(4)\n",
      "memory usage: 7.6 GB\n"
     ]
    }
   ],
   "source": [
    "ind_london_2018.info()"
   ]
  },
  {
   "cell_type": "code",
   "execution_count": 11,
   "metadata": {},
   "outputs": [],
   "source": [
    "# ind_london_2018['dt']=ind_london_2018['timestamp'].values.astype('<M8[m]')\n",
    "# ind_london_2018.head()"
   ]
  },
  {
   "cell_type": "code",
   "execution_count": 12,
   "metadata": {},
   "outputs": [],
   "source": [
    "# set the frequency of values to 2 minutes so we dont have any missing observation\n",
    "#ind_london_2018 = ind_london_2018.set_index('timestamp').asfreq('2Min')\n",
    "#set the values in the missing row same as the value of the previous row\n",
    "# ind_london_2018=ind_london_2018.fillna(method='ffill')\n",
    "# ind_london_2018=ind_london_2018.reset_index()"
   ]
  },
  {
   "cell_type": "code",
   "execution_count": 13,
   "metadata": {},
   "outputs": [],
   "source": [
    "# ind_london_2018['Date'] = [d.date() for d in ind_london_2018['dt']]\n",
    "# ind_london_2018['Time'] = [d.time() for d in ind_london_2018['dt']]"
   ]
  },
  {
   "cell_type": "code",
   "execution_count": 14,
   "metadata": {},
   "outputs": [],
   "source": [
    "#separating these 2 colimns to work easier later on\n",
    "# ind_london_2018['Date']=ind_london_2018['dt'].apply(lambda x: x.split()[0])\n",
    "# ind_london_2018['Time']=ind_london_2018['dt'].apply(lambda x: x.split()[1])\n",
    "#ind_london_2018.head()\n",
    "#df['StartDate']=df['StartDate'].apply(lambda x: x.strftime(\"%d-%m-%Y\"))"
   ]
  },
  {
   "cell_type": "code",
   "execution_count": 15,
   "metadata": {},
   "outputs": [],
   "source": [
    "#ind_london_2018['month']=ind_london_2018['dt'].apply(lambda x: x.month_name())"
   ]
  },
  {
   "cell_type": "code",
   "execution_count": 16,
   "metadata": {},
   "outputs": [],
   "source": [
    "#ind_london_2018['day_name']=ind_london_2018['dt'].apply(lambda x: x.day_name())"
   ]
  },
  {
   "cell_type": "code",
   "execution_count": 17,
   "metadata": {},
   "outputs": [],
   "source": [
    "#ind_london_2018['month']=ind_london_2018['Date'].apply(lambda x: calendar.month_name[int(x.split(\"-\")[1])])"
   ]
  },
  {
   "cell_type": "code",
   "execution_count": 18,
   "metadata": {},
   "outputs": [],
   "source": [
    "#ind_london_2018['date']=pd.to_datetime(ind_london_2018['Date'])\n",
    "# ind_london_2018.drop('dt', axis=1,inplace=True)\n",
    "# ind_london_2018.head()"
   ]
  },
  {
   "cell_type": "code",
   "execution_count": 17,
   "metadata": {},
   "outputs": [],
   "source": [
    "ind_london_2018.to_csv('/bigdata/tara/ind_london_2018.csv')"
   ]
  },
  {
   "cell_type": "markdown",
   "metadata": {},
   "source": [
    "# B. Working with 2018"
   ]
  },
  {
   "cell_type": "code",
   "execution_count": 2,
   "metadata": {},
   "outputs": [],
   "source": [
    "# you can run it on sample data : master_thesis/SampleData/ind_london_2018_sample.csv"
   ]
  },
  {
   "cell_type": "code",
   "execution_count": 35,
   "metadata": {},
   "outputs": [
    {
     "data": {
      "text/html": [
       "<div>\n",
       "<style scoped>\n",
       "    .dataframe tbody tr th:only-of-type {\n",
       "        vertical-align: middle;\n",
       "    }\n",
       "\n",
       "    .dataframe tbody tr th {\n",
       "        vertical-align: top;\n",
       "    }\n",
       "\n",
       "    .dataframe thead th {\n",
       "        text-align: right;\n",
       "    }\n",
       "</style>\n",
       "<table border=\"1\" class=\"dataframe\">\n",
       "  <thead>\n",
       "    <tr style=\"text-align: right;\">\n",
       "      <th></th>\n",
       "      <th>operator_id</th>\n",
       "      <th>bikes</th>\n",
       "      <th>spaces</th>\n",
       "      <th>total_docks</th>\n",
       "      <th>timestamp</th>\n",
       "    </tr>\n",
       "  </thead>\n",
       "  <tbody>\n",
       "    <tr>\n",
       "      <th>0</th>\n",
       "      <td>1</td>\n",
       "      <td>9</td>\n",
       "      <td>10</td>\n",
       "      <td>19</td>\n",
       "      <td>2018-01-01 00:00:00</td>\n",
       "    </tr>\n",
       "    <tr>\n",
       "      <th>1</th>\n",
       "      <td>2</td>\n",
       "      <td>21</td>\n",
       "      <td>16</td>\n",
       "      <td>37</td>\n",
       "      <td>2018-01-01 00:00:00</td>\n",
       "    </tr>\n",
       "    <tr>\n",
       "      <th>2</th>\n",
       "      <td>3</td>\n",
       "      <td>12</td>\n",
       "      <td>20</td>\n",
       "      <td>32</td>\n",
       "      <td>2018-01-01 00:00:00</td>\n",
       "    </tr>\n",
       "    <tr>\n",
       "      <th>3</th>\n",
       "      <td>4</td>\n",
       "      <td>16</td>\n",
       "      <td>7</td>\n",
       "      <td>23</td>\n",
       "      <td>2018-01-01 00:00:00</td>\n",
       "    </tr>\n",
       "    <tr>\n",
       "      <th>4</th>\n",
       "      <td>5</td>\n",
       "      <td>10</td>\n",
       "      <td>17</td>\n",
       "      <td>27</td>\n",
       "      <td>2018-01-01 00:00:00</td>\n",
       "    </tr>\n",
       "  </tbody>\n",
       "</table>\n",
       "</div>"
      ],
      "text/plain": [
       "   operator_id  bikes  spaces  total_docks            timestamp\n",
       "0            1      9      10           19  2018-01-01 00:00:00\n",
       "1            2     21      16           37  2018-01-01 00:00:00\n",
       "2            3     12      20           32  2018-01-01 00:00:00\n",
       "3            4     16       7           23  2018-01-01 00:00:00\n",
       "4            5     10      17           27  2018-01-01 00:00:00"
      ]
     },
     "execution_count": 35,
     "metadata": {},
     "output_type": "execute_result"
    }
   ],
   "source": [
    "df=pd.read_csv(\"/bigdata/tara/ind_london_2018.csv\",index_col=0)\n",
    "df.head()"
   ]
  },
  {
   "cell_type": "markdown",
   "metadata": {},
   "source": [
    "### 1. Sample one station"
   ]
  },
  {
   "cell_type": "code",
   "execution_count": 36,
   "metadata": {},
   "outputs": [
    {
     "data": {
      "text/html": [
       "<div>\n",
       "<style scoped>\n",
       "    .dataframe tbody tr th:only-of-type {\n",
       "        vertical-align: middle;\n",
       "    }\n",
       "\n",
       "    .dataframe tbody tr th {\n",
       "        vertical-align: top;\n",
       "    }\n",
       "\n",
       "    .dataframe thead th {\n",
       "        text-align: right;\n",
       "    }\n",
       "</style>\n",
       "<table border=\"1\" class=\"dataframe\">\n",
       "  <thead>\n",
       "    <tr style=\"text-align: right;\">\n",
       "      <th></th>\n",
       "      <th>operator_id</th>\n",
       "      <th>bikes</th>\n",
       "      <th>spaces</th>\n",
       "      <th>total_docks</th>\n",
       "      <th>timestamp</th>\n",
       "    </tr>\n",
       "  </thead>\n",
       "  <tbody>\n",
       "    <tr>\n",
       "      <th>0</th>\n",
       "      <td>427</td>\n",
       "      <td>6</td>\n",
       "      <td>37</td>\n",
       "      <td>43</td>\n",
       "      <td>2018-01-01 00:00:00</td>\n",
       "    </tr>\n",
       "    <tr>\n",
       "      <th>1</th>\n",
       "      <td>427</td>\n",
       "      <td>6</td>\n",
       "      <td>37</td>\n",
       "      <td>43</td>\n",
       "      <td>2018-01-01 00:02:00</td>\n",
       "    </tr>\n",
       "    <tr>\n",
       "      <th>2</th>\n",
       "      <td>427</td>\n",
       "      <td>6</td>\n",
       "      <td>37</td>\n",
       "      <td>43</td>\n",
       "      <td>2018-01-01 00:04:00</td>\n",
       "    </tr>\n",
       "    <tr>\n",
       "      <th>3</th>\n",
       "      <td>427</td>\n",
       "      <td>6</td>\n",
       "      <td>37</td>\n",
       "      <td>43</td>\n",
       "      <td>2018-01-01 00:06:00</td>\n",
       "    </tr>\n",
       "    <tr>\n",
       "      <th>4</th>\n",
       "      <td>427</td>\n",
       "      <td>6</td>\n",
       "      <td>37</td>\n",
       "      <td>43</td>\n",
       "      <td>2018-01-01 00:08:00</td>\n",
       "    </tr>\n",
       "  </tbody>\n",
       "</table>\n",
       "</div>"
      ],
      "text/plain": [
       "   operator_id  bikes  spaces  total_docks            timestamp\n",
       "0          427      6      37           43  2018-01-01 00:00:00\n",
       "1          427      6      37           43  2018-01-01 00:02:00\n",
       "2          427      6      37           43  2018-01-01 00:04:00\n",
       "3          427      6      37           43  2018-01-01 00:06:00\n",
       "4          427      6      37           43  2018-01-01 00:08:00"
      ]
     },
     "execution_count": 36,
     "metadata": {},
     "output_type": "execute_result"
    }
   ],
   "source": [
    "# #choose a station to sample e.g 427\n",
    "df=df[df['operator_id']==427]\n",
    "df=df.reset_index(drop=True)\n",
    "df.head()\n"
   ]
  },
  {
   "cell_type": "code",
   "execution_count": 37,
   "metadata": {},
   "outputs": [
    {
     "name": "stdout",
     "output_type": "stream",
     "text": [
      "<class 'pandas.core.frame.DataFrame'>\n",
      "RangeIndex: 261393 entries, 0 to 261392\n",
      "Data columns (total 5 columns):\n",
      "operator_id    261393 non-null int64\n",
      "bikes          261393 non-null int64\n",
      "spaces         261393 non-null int64\n",
      "total_docks    261393 non-null int64\n",
      "timestamp      261393 non-null object\n",
      "dtypes: int64(4), object(1)\n",
      "memory usage: 10.0+ MB\n"
     ]
    }
   ],
   "source": [
    "#it should be 262800\n",
    "df.info()"
   ]
  },
  {
   "cell_type": "code",
   "execution_count": 38,
   "metadata": {},
   "outputs": [
    {
     "data": {
      "text/html": [
       "<div>\n",
       "<style scoped>\n",
       "    .dataframe tbody tr th:only-of-type {\n",
       "        vertical-align: middle;\n",
       "    }\n",
       "\n",
       "    .dataframe tbody tr th {\n",
       "        vertical-align: top;\n",
       "    }\n",
       "\n",
       "    .dataframe thead th {\n",
       "        text-align: right;\n",
       "    }\n",
       "</style>\n",
       "<table border=\"1\" class=\"dataframe\">\n",
       "  <thead>\n",
       "    <tr style=\"text-align: right;\">\n",
       "      <th></th>\n",
       "      <th>operator_id</th>\n",
       "      <th>bikes</th>\n",
       "      <th>spaces</th>\n",
       "      <th>total_docks</th>\n",
       "      <th>timestamp</th>\n",
       "    </tr>\n",
       "  </thead>\n",
       "  <tbody>\n",
       "    <tr>\n",
       "      <th>0</th>\n",
       "      <td>427</td>\n",
       "      <td>6</td>\n",
       "      <td>37</td>\n",
       "      <td>43</td>\n",
       "      <td>2018-01-01 00:00:00</td>\n",
       "    </tr>\n",
       "    <tr>\n",
       "      <th>1</th>\n",
       "      <td>427</td>\n",
       "      <td>6</td>\n",
       "      <td>37</td>\n",
       "      <td>43</td>\n",
       "      <td>2018-01-01 00:02:00</td>\n",
       "    </tr>\n",
       "    <tr>\n",
       "      <th>2</th>\n",
       "      <td>427</td>\n",
       "      <td>6</td>\n",
       "      <td>37</td>\n",
       "      <td>43</td>\n",
       "      <td>2018-01-01 00:04:00</td>\n",
       "    </tr>\n",
       "    <tr>\n",
       "      <th>3</th>\n",
       "      <td>427</td>\n",
       "      <td>6</td>\n",
       "      <td>37</td>\n",
       "      <td>43</td>\n",
       "      <td>2018-01-01 00:06:00</td>\n",
       "    </tr>\n",
       "    <tr>\n",
       "      <th>4</th>\n",
       "      <td>427</td>\n",
       "      <td>6</td>\n",
       "      <td>37</td>\n",
       "      <td>43</td>\n",
       "      <td>2018-01-01 00:08:00</td>\n",
       "    </tr>\n",
       "  </tbody>\n",
       "</table>\n",
       "</div>"
      ],
      "text/plain": [
       "   operator_id  bikes  spaces  total_docks           timestamp\n",
       "0          427      6      37           43 2018-01-01 00:00:00\n",
       "1          427      6      37           43 2018-01-01 00:02:00\n",
       "2          427      6      37           43 2018-01-01 00:04:00\n",
       "3          427      6      37           43 2018-01-01 00:06:00\n",
       "4          427      6      37           43 2018-01-01 00:08:00"
      ]
     },
     "execution_count": 38,
     "metadata": {},
     "output_type": "execute_result"
    }
   ],
   "source": [
    "#set the seconds to zero\n",
    "df['timestamp']=df['timestamp'].values.astype('<M8[m]')\n",
    "df.head()"
   ]
  },
  {
   "cell_type": "code",
   "execution_count": 39,
   "metadata": {},
   "outputs": [
    {
     "data": {
      "text/html": [
       "<div>\n",
       "<style scoped>\n",
       "    .dataframe tbody tr th:only-of-type {\n",
       "        vertical-align: middle;\n",
       "    }\n",
       "\n",
       "    .dataframe tbody tr th {\n",
       "        vertical-align: top;\n",
       "    }\n",
       "\n",
       "    .dataframe thead th {\n",
       "        text-align: right;\n",
       "    }\n",
       "</style>\n",
       "<table border=\"1\" class=\"dataframe\">\n",
       "  <thead>\n",
       "    <tr style=\"text-align: right;\">\n",
       "      <th></th>\n",
       "      <th>operator_id</th>\n",
       "      <th>bikes</th>\n",
       "      <th>spaces</th>\n",
       "      <th>total_docks</th>\n",
       "    </tr>\n",
       "    <tr>\n",
       "      <th>timestamp</th>\n",
       "      <th></th>\n",
       "      <th></th>\n",
       "      <th></th>\n",
       "      <th></th>\n",
       "    </tr>\n",
       "  </thead>\n",
       "  <tbody>\n",
       "    <tr>\n",
       "      <th>2018-01-01 00:00:00</th>\n",
       "      <td>427.0</td>\n",
       "      <td>6.0</td>\n",
       "      <td>37.0</td>\n",
       "      <td>43.0</td>\n",
       "    </tr>\n",
       "    <tr>\n",
       "      <th>2018-01-01 00:02:00</th>\n",
       "      <td>427.0</td>\n",
       "      <td>6.0</td>\n",
       "      <td>37.0</td>\n",
       "      <td>43.0</td>\n",
       "    </tr>\n",
       "    <tr>\n",
       "      <th>2018-01-01 00:04:00</th>\n",
       "      <td>427.0</td>\n",
       "      <td>6.0</td>\n",
       "      <td>37.0</td>\n",
       "      <td>43.0</td>\n",
       "    </tr>\n",
       "    <tr>\n",
       "      <th>2018-01-01 00:06:00</th>\n",
       "      <td>427.0</td>\n",
       "      <td>6.0</td>\n",
       "      <td>37.0</td>\n",
       "      <td>43.0</td>\n",
       "    </tr>\n",
       "    <tr>\n",
       "      <th>2018-01-01 00:08:00</th>\n",
       "      <td>427.0</td>\n",
       "      <td>6.0</td>\n",
       "      <td>37.0</td>\n",
       "      <td>43.0</td>\n",
       "    </tr>\n",
       "  </tbody>\n",
       "</table>\n",
       "</div>"
      ],
      "text/plain": [
       "                     operator_id  bikes  spaces  total_docks\n",
       "timestamp                                                   \n",
       "2018-01-01 00:00:00        427.0    6.0    37.0         43.0\n",
       "2018-01-01 00:02:00        427.0    6.0    37.0         43.0\n",
       "2018-01-01 00:04:00        427.0    6.0    37.0         43.0\n",
       "2018-01-01 00:06:00        427.0    6.0    37.0         43.0\n",
       "2018-01-01 00:08:00        427.0    6.0    37.0         43.0"
      ]
     },
     "execution_count": 39,
     "metadata": {},
     "output_type": "execute_result"
    }
   ],
   "source": [
    "# set the frequency of values to 2 minutes so we dont have any missing observation\n",
    "df = df.set_index('timestamp').asfreq('2Min')\n",
    "#set the values in the missing row same as the value of the previous row\n",
    "df=df.fillna(method='ffill')\n",
    "df.head()"
   ]
  },
  {
   "cell_type": "code",
   "execution_count": 40,
   "metadata": {},
   "outputs": [],
   "source": [
    "df.to_csv('/bigdata/tara/s427_sample.csv')"
   ]
  },
  {
   "cell_type": "markdown",
   "metadata": {},
   "source": [
    "### 2"
   ]
  },
  {
   "cell_type": "code",
   "execution_count": 17,
   "metadata": {},
   "outputs": [],
   "source": [
    "#the operator_ids range from 1 to 839 but there is no record for some of them in the data set\n",
    "#So we want to remove this stations from our station_data\n",
    "numbers=range(1,840)\n",
    "s_ids=[]\n",
    "for num in numbers:\n",
    "     s_ids.append(num)\n",
    "black_list=list(set(s_ids) - set(list(df.operator_id.unique())))\n"
   ]
  },
  {
   "cell_type": "code",
   "execution_count": 18,
   "metadata": {},
   "outputs": [
    {
     "data": {
      "text/plain": [
       "796"
      ]
     },
     "execution_count": 18,
     "metadata": {},
     "output_type": "execute_result"
    }
   ],
   "source": [
    "#number of stations that we have a record for in data set\n",
    "839-43"
   ]
  },
  {
   "cell_type": "code",
   "execution_count": 11,
   "metadata": {},
   "outputs": [],
   "source": [
    "#df[df.operator_id==334]"
   ]
  },
  {
   "cell_type": "code",
   "execution_count": 20,
   "metadata": {},
   "outputs": [],
   "source": [
    "# df.drop('total',axis=1,inplace=True)\n",
    "# df.columns"
   ]
  },
  {
   "cell_type": "markdown",
   "metadata": {},
   "source": [
    "## B.1 Ploting "
   ]
  },
  {
   "cell_type": "markdown",
   "metadata": {},
   "source": [
    "### B.1.1 Ploting different station patterns during weeday and weekends of the year"
   ]
  },
  {
   "cell_type": "code",
   "execution_count": 28,
   "metadata": {},
   "outputs": [],
   "source": [
    "def station_plot(op_id):\n",
    "    '''input=station id\n",
    "        This function takes a station id and plots the average number of slots\n",
    "        seperate by week days and weekends.\n",
    "    '''\n",
    "    weekend_df= df[((df['day_name']=='Saturday') | (df['day_name']=='Sunday')) & (df['operator_id']==op_id)]\n",
    "    weekday_df= df[(df['day_name']!='Saturday') & (df['day_name']!='Sunday') & (df['operator_id']==op_id)]\n",
    "    \n",
    "    fig, ax = plt.subplots()\n",
    "    xticks=range(0,24,2)\n",
    "        \n",
    "    weekday_df.groupby(weekday_df.Time.apply(lambda x: x.split(':')[0]))['total_docks'].mean().plot(label='total docks',ax=ax,xticks=xticks,color=\"red\")\n",
    "    weekend_df.groupby(weekend_df.Time.apply(lambda x: x.split(':')[0]))['spaces'].mean().plot(label='docks Sa-Su',ax=ax,color=\"blue\")\n",
    "    weekday_df.groupby(weekday_df.Time.apply(lambda x: x.split(':')[0]))['spaces'].mean().plot(label='docks Mo-Fr',ax=ax,color=\"black\")\n",
    "    plt.legend()\n",
    "    plt.ylabel('Number of empty docks')\n",
    "    plt.xlabel('Time of day(Hour)')\n",
    "    #plt.title('St '+str(op_id))\n"
   ]
  },
  {
   "cell_type": "code",
   "execution_count": 29,
   "metadata": {},
   "outputs": [
    {
     "data": {
      "text/plain": [
       "Text(0.5, 1.0, 'St. 427: Cheapside, Bank (51.513971,-0.09294)')"
      ]
     },
     "execution_count": 29,
     "metadata": {},
     "output_type": "execute_result"
    },
    {
     "data": {
      "image/png": "[encoded data removed]",
      "text/plain": [
       "<Figure size 432x288 with 1 Axes>"
      ]
     },
     "metadata": {
      "needs_background": "light"
     },
     "output_type": "display_data"
    }
   ],
   "source": [
    "#working area\n",
    "station_plot(427)\n",
    "plt.title('St. 427: Cheapside, Bank (51.513971,-0.09294)',fontsize=9)"
   ]
  },
  {
   "cell_type": "code",
   "execution_count": 30,
   "metadata": {},
   "outputs": [
    {
     "data": {
      "text/plain": [
       "Text(0.5, 1.0, 'St. 174: Cheapside, Bank (51.513891,-0.093118)')"
      ]
     },
     "execution_count": 30,
     "metadata": {},
     "output_type": "execute_result"
    },
    {
     "data": {
      "image/png": "[encoded data removed]",
      "text/plain": [
       "<Figure size 432x288 with 1 Axes>"
      ]
     },
     "metadata": {
      "needs_background": "light"
     },
     "output_type": "display_data"
    }
   ],
   "source": [
    "#working area\n",
    "station_plot(174)\n",
    "plt.title('St. 174: Cheapside, Bank (51.513891,-0.093118)',fontsize=9)"
   ]
  },
  {
   "cell_type": "code",
   "execution_count": 31,
   "metadata": {},
   "outputs": [
    {
     "data": {
      "text/plain": [
       "Text(0.5, 1.0, 'St. 802: Albert Square, Stockwell (51.47659,-0.118257)')"
      ]
     },
     "execution_count": 31,
     "metadata": {},
     "output_type": "execute_result"
    },
    {
     "data": {
      "image/png": "[encoded data removed]",
      "text/plain": [
       "<Figure size 432x288 with 1 Axes>"
      ]
     },
     "metadata": {
      "needs_background": "light"
     },
     "output_type": "display_data"
    }
   ],
   "source": [
    "#residential\n",
    "station_plot(802)\n",
    "plt.title('''St. 802: Albert Square, Stockwell (51.47659,-0.118257)''',fontsize=9)"
   ]
  },
  {
   "cell_type": "code",
   "execution_count": 32,
   "metadata": {},
   "outputs": [
    {
     "data": {
      "text/plain": [
       "Text(0.5, 1.0, \"St. 647: Richmond Way, Shepherd's Bush (51.500353,-0.217515)\")"
      ]
     },
     "execution_count": 32,
     "metadata": {},
     "output_type": "execute_result"
    },
    {
     "data": {
      "image/png": "[encoded data removed]",
      "text/plain": [
       "<Figure size 432x288 with 1 Axes>"
      ]
     },
     "metadata": {
      "needs_background": "light"
     },
     "output_type": "display_data"
    }
   ],
   "source": [
    "#residential\n",
    "station_plot(647) \n",
    "plt.title('''St. 647: Richmond Way, Shepherd's Bush (51.500353,-0.217515)''',fontsize=9)"
   ]
  },
  {
   "cell_type": "code",
   "execution_count": 33,
   "metadata": {},
   "outputs": [
    {
     "data": {
      "text/plain": [
       "Text(0.5, 1.0, 'St. 224: Queensway, Kensington Gardens (51.51031,-0.187402)')"
      ]
     },
     "execution_count": 33,
     "metadata": {},
     "output_type": "execute_result"
    },
    {
     "data": {
      "image/png": "[encoded data removed]",
      "text/plain": [
       "<Figure size 432x288 with 1 Axes>"
      ]
     },
     "metadata": {
      "needs_background": "light"
     },
     "output_type": "display_data"
    }
   ],
   "source": [
    "#as it can bee seen people take the bikes early and again peole leave the bikes here late at night\n",
    "#which can propose a residential area due to commuting to work\n",
    "#but if we look more closly the time span is wider than working hour(6-20)\n",
    "#so if we look deeply into the area we figure out it is a touristic place that has lot of hotel and hostels\n",
    "#as it can be seen it also has a lot of activity during weekend\n",
    "station_plot(224)\n",
    "plt.title('''St. 224: Queensway, Kensington Gardens (51.51031,-0.187402)''',fontsize=9)"
   ]
  },
  {
   "cell_type": "code",
   "execution_count": 34,
   "metadata": {},
   "outputs": [
    {
     "data": {
      "text/plain": [
       "Text(0.5, 1.0, 'St. 83: Panton Street, West End (51.509639,-0.131511)')"
      ]
     },
     "execution_count": 34,
     "metadata": {},
     "output_type": "execute_result"
    },
    {
     "data": {
      "image/png": "[encoded data removed]",
      "text/plain": [
       "<Figure size 432x288 with 1 Axes>"
      ]
     },
     "metadata": {
      "needs_background": "light"
     },
     "output_type": "display_data"
    }
   ],
   "source": [
    "#this area is full of tourists but also china town is close and it is srounded by restaurants\n",
    "#which explains why during the brunch and lunch time there are less slots on the station\n",
    "station_plot(83)\n",
    "plt.title('''St. 83: Panton Street, West End (51.509639,-0.131511)''',fontsize=9)"
   ]
  },
  {
   "cell_type": "code",
   "execution_count": null,
   "metadata": {},
   "outputs": [],
   "source": [
    "# Full of offices and also touristic\n",
    "station_plot(191)\n",
    "plt.title('''St. 191: Hyde Park Corner, Hyde Park (51.503118,-0.153521)''',fontsize=9)"
   ]
  },
  {
   "cell_type": "markdown",
   "metadata": {},
   "source": [
    "### B.1.2 Demonstrating the issue of running out of free slots during a day"
   ]
  },
  {
   "cell_type": "code",
   "execution_count": 94,
   "metadata": {},
   "outputs": [
    {
     "data": {
      "text/html": [
       "<div>\n",
       "<style scoped>\n",
       "    .dataframe tbody tr th:only-of-type {\n",
       "        vertical-align: middle;\n",
       "    }\n",
       "\n",
       "    .dataframe tbody tr th {\n",
       "        vertical-align: top;\n",
       "    }\n",
       "\n",
       "    .dataframe thead th {\n",
       "        text-align: right;\n",
       "    }\n",
       "</style>\n",
       "<table border=\"1\" class=\"dataframe\">\n",
       "  <thead>\n",
       "    <tr style=\"text-align: right;\">\n",
       "      <th></th>\n",
       "      <th>bikes</th>\n",
       "      <th>spaces</th>\n",
       "      <th>total_docks</th>\n",
       "      <th>timestamp</th>\n",
       "      <th>Date</th>\n",
       "      <th>Time</th>\n",
       "      <th>month</th>\n",
       "      <th>day_name</th>\n",
       "    </tr>\n",
       "    <tr>\n",
       "      <th>operator_id</th>\n",
       "      <th></th>\n",
       "      <th></th>\n",
       "      <th></th>\n",
       "      <th></th>\n",
       "      <th></th>\n",
       "      <th></th>\n",
       "      <th></th>\n",
       "      <th></th>\n",
       "    </tr>\n",
       "  </thead>\n",
       "  <tbody>\n",
       "    <tr>\n",
       "      <th>224</th>\n",
       "      <td>49079</td>\n",
       "      <td>49079</td>\n",
       "      <td>49079</td>\n",
       "      <td>49079</td>\n",
       "      <td>49079</td>\n",
       "      <td>49079</td>\n",
       "      <td>49079</td>\n",
       "      <td>49079</td>\n",
       "    </tr>\n",
       "    <tr>\n",
       "      <th>397</th>\n",
       "      <td>46741</td>\n",
       "      <td>46741</td>\n",
       "      <td>46741</td>\n",
       "      <td>46741</td>\n",
       "      <td>46741</td>\n",
       "      <td>46741</td>\n",
       "      <td>46741</td>\n",
       "      <td>46741</td>\n",
       "    </tr>\n",
       "    <tr>\n",
       "      <th>818</th>\n",
       "      <td>43456</td>\n",
       "      <td>43456</td>\n",
       "      <td>43456</td>\n",
       "      <td>43456</td>\n",
       "      <td>43456</td>\n",
       "      <td>43456</td>\n",
       "      <td>43456</td>\n",
       "      <td>43456</td>\n",
       "    </tr>\n",
       "    <tr>\n",
       "      <th>255</th>\n",
       "      <td>41533</td>\n",
       "      <td>41533</td>\n",
       "      <td>41533</td>\n",
       "      <td>41533</td>\n",
       "      <td>41533</td>\n",
       "      <td>41533</td>\n",
       "      <td>41533</td>\n",
       "      <td>41533</td>\n",
       "    </tr>\n",
       "    <tr>\n",
       "      <th>336</th>\n",
       "      <td>38758</td>\n",
       "      <td>38758</td>\n",
       "      <td>38758</td>\n",
       "      <td>38758</td>\n",
       "      <td>38758</td>\n",
       "      <td>38758</td>\n",
       "      <td>38758</td>\n",
       "      <td>38758</td>\n",
       "    </tr>\n",
       "  </tbody>\n",
       "</table>\n",
       "</div>"
      ],
      "text/plain": [
       "             bikes  spaces  total_docks  timestamp   Date   Time  month  \\\n",
       "operator_id                                                               \n",
       "224          49079   49079        49079      49079  49079  49079  49079   \n",
       "397          46741   46741        46741      46741  46741  46741  46741   \n",
       "818          43456   43456        43456      43456  43456  43456  43456   \n",
       "255          41533   41533        41533      41533  41533  41533  41533   \n",
       "336          38758   38758        38758      38758  38758  38758  38758   \n",
       "\n",
       "             day_name  \n",
       "operator_id            \n",
       "224             49079  \n",
       "397             46741  \n",
       "818             43456  \n",
       "255             41533  \n",
       "336             38758  "
      ]
     },
     "execution_count": 94,
     "metadata": {},
     "output_type": "execute_result"
    }
   ],
   "source": [
    "df[df['spaces']==0].groupby(['operator_id']).count().sort_values(by='spaces', ascending=False).head()"
   ]
  },
  {
   "cell_type": "code",
   "execution_count": 22,
   "metadata": {},
   "outputs": [
    {
     "data": {
      "text/html": [
       "<div>\n",
       "<style scoped>\n",
       "    .dataframe tbody tr th:only-of-type {\n",
       "        vertical-align: middle;\n",
       "    }\n",
       "\n",
       "    .dataframe tbody tr th {\n",
       "        vertical-align: top;\n",
       "    }\n",
       "\n",
       "    .dataframe thead th {\n",
       "        text-align: right;\n",
       "    }\n",
       "</style>\n",
       "<table border=\"1\" class=\"dataframe\">\n",
       "  <thead>\n",
       "    <tr style=\"text-align: right;\">\n",
       "      <th></th>\n",
       "      <th></th>\n",
       "      <th>bikes</th>\n",
       "      <th>spaces</th>\n",
       "      <th>total_docks</th>\n",
       "      <th>timestamp</th>\n",
       "      <th>Time</th>\n",
       "      <th>month</th>\n",
       "      <th>day_name</th>\n",
       "    </tr>\n",
       "    <tr>\n",
       "      <th>operator_id</th>\n",
       "      <th>Date</th>\n",
       "      <th></th>\n",
       "      <th></th>\n",
       "      <th></th>\n",
       "      <th></th>\n",
       "      <th></th>\n",
       "      <th></th>\n",
       "      <th></th>\n",
       "    </tr>\n",
       "  </thead>\n",
       "  <tbody>\n",
       "    <tr>\n",
       "      <th rowspan=\"5\" valign=\"top\">224</th>\n",
       "      <th>2018-04-13</th>\n",
       "      <td>622</td>\n",
       "      <td>622</td>\n",
       "      <td>622</td>\n",
       "      <td>622</td>\n",
       "      <td>622</td>\n",
       "      <td>622</td>\n",
       "      <td>622</td>\n",
       "    </tr>\n",
       "    <tr>\n",
       "      <th>2018-08-26</th>\n",
       "      <td>517</td>\n",
       "      <td>517</td>\n",
       "      <td>517</td>\n",
       "      <td>517</td>\n",
       "      <td>517</td>\n",
       "      <td>517</td>\n",
       "      <td>517</td>\n",
       "    </tr>\n",
       "    <tr>\n",
       "      <th>2018-04-30</th>\n",
       "      <td>510</td>\n",
       "      <td>510</td>\n",
       "      <td>510</td>\n",
       "      <td>510</td>\n",
       "      <td>510</td>\n",
       "      <td>510</td>\n",
       "      <td>510</td>\n",
       "    </tr>\n",
       "    <tr>\n",
       "      <th>2018-01-31</th>\n",
       "      <td>451</td>\n",
       "      <td>451</td>\n",
       "      <td>451</td>\n",
       "      <td>451</td>\n",
       "      <td>451</td>\n",
       "      <td>451</td>\n",
       "      <td>451</td>\n",
       "    </tr>\n",
       "    <tr>\n",
       "      <th>2018-08-05</th>\n",
       "      <td>425</td>\n",
       "      <td>425</td>\n",
       "      <td>425</td>\n",
       "      <td>425</td>\n",
       "      <td>425</td>\n",
       "      <td>425</td>\n",
       "      <td>425</td>\n",
       "    </tr>\n",
       "  </tbody>\n",
       "</table>\n",
       "</div>"
      ],
      "text/plain": [
       "                        bikes  spaces  total_docks  timestamp  Time  month  \\\n",
       "operator_id Date                                                             \n",
       "224         2018-04-13    622     622          622        622   622    622   \n",
       "            2018-08-26    517     517          517        517   517    517   \n",
       "            2018-04-30    510     510          510        510   510    510   \n",
       "            2018-01-31    451     451          451        451   451    451   \n",
       "            2018-08-05    425     425          425        425   425    425   \n",
       "\n",
       "                        day_name  \n",
       "operator_id Date                  \n",
       "224         2018-04-13       622  \n",
       "            2018-08-26       517  \n",
       "            2018-04-30       510  \n",
       "            2018-01-31       451  \n",
       "            2018-08-05       425  "
      ]
     },
     "execution_count": 22,
     "metadata": {},
     "output_type": "execute_result"
    }
   ],
   "source": [
    "df[(df['spaces']==0) & (df['operator_id']==224)].groupby(['operator_id','Date']).count().sort_values(by='spaces', ascending=False).head()"
   ]
  },
  {
   "cell_type": "code",
   "execution_count": 97,
   "metadata": {},
   "outputs": [],
   "source": [
    "\n",
    "\n",
    "dates=['2018-04-30','2018-05-01','2018-05-02','2018-05-03','2018-05-04']\n",
    "test_df=df[(df['operator_id']==224)&(df['Date'].isin(dates))].reset_index(drop=True)\n",
    "test_df['timestamp']=pd.to_datetime(test_df['timestamp'])\n",
    "test_df = test_df.set_index('timestamp')\n"
   ]
  },
  {
   "cell_type": "code",
   "execution_count": 105,
   "metadata": {},
   "outputs": [
    {
     "data": {
      "text/plain": [
       "Text(0.5, 1.0, 'St. 224: Queensway, Kensington Gardens')"
      ]
     },
     "execution_count": 105,
     "metadata": {},
     "output_type": "execute_result"
    },
    {
     "data": {
      "image/png": "[encoded data removed]",
      "text/plain": [
       "<Figure size 1440x504 with 1 Axes>"
      ]
     },
     "metadata": {},
     "output_type": "display_data"
    }
   ],
   "source": [
    "\n",
    "labels=['                 Monday', \n",
    "        '                 Tuesday', \n",
    "        '                 Wednesday', \n",
    "        '                 Thursday', \n",
    "        '                 Friday']\n",
    "fig, ax = plt.subplots(figsize=(20,7))\n",
    "sns.set_style(\"darkgrid\")\n",
    "test_df.plot(y=['spaces'],ax=ax)\n",
    "plt.ylabel('Number of empty docks',fontsize=16)\n",
    "\n",
    "ax.set_xticklabels(labels=labels,rotation=0,fontdict={'fontsize':14})\n",
    "# for label in ax.get_xticklabels():\n",
    "    \n",
    "#     label.set_horizontalalignment('center')\n",
    "\n",
    "for label in ax.get_xticklabels():\n",
    "    label.set_horizontalalignment('left')\n",
    "\n",
    "plt.title('''St. 224: Queensway, Kensington Gardens''',fontsize=16)\n"
   ]
  },
  {
   "cell_type": "code",
   "execution_count": 2,
   "metadata": {},
   "outputs": [
    {
     "name": "stderr",
     "output_type": "stream",
     "text": [
      "/home/tara/anaconda3/lib/python3.7/site-packages/numpy/lib/arraysetops.py:569: FutureWarning: elementwise comparison failed; returning scalar instead, but in the future will perform elementwise comparison\n",
      "  mask |= (ar1 == a)\n"
     ]
    },
    {
     "data": {
      "text/html": [
       "<div>\n",
       "<style scoped>\n",
       "    .dataframe tbody tr th:only-of-type {\n",
       "        vertical-align: middle;\n",
       "    }\n",
       "\n",
       "    .dataframe tbody tr th {\n",
       "        vertical-align: top;\n",
       "    }\n",
       "\n",
       "    .dataframe thead th {\n",
       "        text-align: right;\n",
       "    }\n",
       "</style>\n",
       "<table border=\"1\" class=\"dataframe\">\n",
       "  <thead>\n",
       "    <tr style=\"text-align: right;\">\n",
       "      <th></th>\n",
       "      <th>operator_id</th>\n",
       "      <th>bikes</th>\n",
       "      <th>spaces</th>\n",
       "      <th>total_docks</th>\n",
       "      <th>timestamp</th>\n",
       "    </tr>\n",
       "  </thead>\n",
       "  <tbody>\n",
       "    <tr>\n",
       "      <th>0</th>\n",
       "      <td>1</td>\n",
       "      <td>9</td>\n",
       "      <td>10</td>\n",
       "      <td>19</td>\n",
       "      <td>2018-01-01 00:00:00</td>\n",
       "    </tr>\n",
       "    <tr>\n",
       "      <th>1</th>\n",
       "      <td>2</td>\n",
       "      <td>21</td>\n",
       "      <td>16</td>\n",
       "      <td>37</td>\n",
       "      <td>2018-01-01 00:00:00</td>\n",
       "    </tr>\n",
       "    <tr>\n",
       "      <th>2</th>\n",
       "      <td>3</td>\n",
       "      <td>12</td>\n",
       "      <td>20</td>\n",
       "      <td>32</td>\n",
       "      <td>2018-01-01 00:00:00</td>\n",
       "    </tr>\n",
       "    <tr>\n",
       "      <th>3</th>\n",
       "      <td>4</td>\n",
       "      <td>16</td>\n",
       "      <td>7</td>\n",
       "      <td>23</td>\n",
       "      <td>2018-01-01 00:00:00</td>\n",
       "    </tr>\n",
       "    <tr>\n",
       "      <th>4</th>\n",
       "      <td>5</td>\n",
       "      <td>10</td>\n",
       "      <td>17</td>\n",
       "      <td>27</td>\n",
       "      <td>2018-01-01 00:00:00</td>\n",
       "    </tr>\n",
       "  </tbody>\n",
       "</table>\n",
       "</div>"
      ],
      "text/plain": [
       "   operator_id  bikes  spaces  total_docks            timestamp\n",
       "0            1      9      10           19  2018-01-01 00:00:00\n",
       "1            2     21      16           37  2018-01-01 00:00:00\n",
       "2            3     12      20           32  2018-01-01 00:00:00\n",
       "3            4     16       7           23  2018-01-01 00:00:00\n",
       "4            5     10      17           27  2018-01-01 00:00:00"
      ]
     },
     "execution_count": 2,
     "metadata": {},
     "output_type": "execute_result"
    }
   ],
   "source": [
    "df=pd.read_csv(\"/bigdata/tara/ind_london_2018.csv\",index_col=0)\n",
    "df.head()"
   ]
  },
  {
   "cell_type": "code",
   "execution_count": 3,
   "metadata": {},
   "outputs": [],
   "source": [
    "missing_data=pd.read_csv('SampleData/missing_data',index_col=0)"
   ]
  },
  {
   "cell_type": "code",
   "execution_count": 4,
   "metadata": {},
   "outputs": [
    {
     "data": {
      "text/html": [
       "<div>\n",
       "<style scoped>\n",
       "    .dataframe tbody tr th:only-of-type {\n",
       "        vertical-align: middle;\n",
       "    }\n",
       "\n",
       "    .dataframe tbody tr th {\n",
       "        vertical-align: top;\n",
       "    }\n",
       "\n",
       "    .dataframe thead th {\n",
       "        text-align: right;\n",
       "    }\n",
       "</style>\n",
       "<table border=\"1\" class=\"dataframe\">\n",
       "  <thead>\n",
       "    <tr style=\"text-align: right;\">\n",
       "      <th></th>\n",
       "      <th>1</th>\n",
       "      <th>2</th>\n",
       "      <th>3</th>\n",
       "      <th>4</th>\n",
       "      <th>5</th>\n",
       "      <th>6</th>\n",
       "      <th>7</th>\n",
       "      <th>8</th>\n",
       "      <th>9</th>\n",
       "      <th>10</th>\n",
       "      <th>11</th>\n",
       "      <th>12</th>\n",
       "    </tr>\n",
       "  </thead>\n",
       "  <tbody>\n",
       "    <tr>\n",
       "      <th>1</th>\n",
       "      <td>5</td>\n",
       "      <td>233</td>\n",
       "      <td>116</td>\n",
       "      <td>67</td>\n",
       "      <td>735</td>\n",
       "      <td>1</td>\n",
       "      <td>0</td>\n",
       "      <td>38</td>\n",
       "      <td>115</td>\n",
       "      <td>128</td>\n",
       "      <td>39</td>\n",
       "      <td>57</td>\n",
       "    </tr>\n",
       "    <tr>\n",
       "      <th>2</th>\n",
       "      <td>5</td>\n",
       "      <td>233</td>\n",
       "      <td>116</td>\n",
       "      <td>5348</td>\n",
       "      <td>735</td>\n",
       "      <td>1</td>\n",
       "      <td>0</td>\n",
       "      <td>38</td>\n",
       "      <td>115</td>\n",
       "      <td>128</td>\n",
       "      <td>39</td>\n",
       "      <td>57</td>\n",
       "    </tr>\n",
       "    <tr>\n",
       "      <th>3</th>\n",
       "      <td>5</td>\n",
       "      <td>233</td>\n",
       "      <td>116</td>\n",
       "      <td>67</td>\n",
       "      <td>735</td>\n",
       "      <td>1221</td>\n",
       "      <td>0</td>\n",
       "      <td>38</td>\n",
       "      <td>115</td>\n",
       "      <td>128</td>\n",
       "      <td>39</td>\n",
       "      <td>57</td>\n",
       "    </tr>\n",
       "    <tr>\n",
       "      <th>4</th>\n",
       "      <td>5</td>\n",
       "      <td>233</td>\n",
       "      <td>116</td>\n",
       "      <td>67</td>\n",
       "      <td>735</td>\n",
       "      <td>1</td>\n",
       "      <td>0</td>\n",
       "      <td>38</td>\n",
       "      <td>115</td>\n",
       "      <td>128</td>\n",
       "      <td>39</td>\n",
       "      <td>57</td>\n",
       "    </tr>\n",
       "    <tr>\n",
       "      <th>5</th>\n",
       "      <td>5</td>\n",
       "      <td>148</td>\n",
       "      <td>115</td>\n",
       "      <td>66</td>\n",
       "      <td>995</td>\n",
       "      <td>1</td>\n",
       "      <td>0</td>\n",
       "      <td>38</td>\n",
       "      <td>115</td>\n",
       "      <td>128</td>\n",
       "      <td>39</td>\n",
       "      <td>57</td>\n",
       "    </tr>\n",
       "  </tbody>\n",
       "</table>\n",
       "</div>"
      ],
      "text/plain": [
       "   1    2    3     4    5     6  7   8    9   10  11  12\n",
       "1  5  233  116    67  735     1  0  38  115  128  39  57\n",
       "2  5  233  116  5348  735     1  0  38  115  128  39  57\n",
       "3  5  233  116    67  735  1221  0  38  115  128  39  57\n",
       "4  5  233  116    67  735     1  0  38  115  128  39  57\n",
       "5  5  148  115    66  995     1  0  38  115  128  39  57"
      ]
     },
     "execution_count": 4,
     "metadata": {},
     "output_type": "execute_result"
    }
   ],
   "source": [
    "missing_data.head()"
   ]
  },
  {
   "cell_type": "code",
   "execution_count": 5,
   "metadata": {},
   "outputs": [],
   "source": [
    "#missing_data.loc[missing_data.sum(axis=1)> (0.4*262800)].index"
   ]
  },
  {
   "cell_type": "code",
   "execution_count": 6,
   "metadata": {},
   "outputs": [],
   "source": [
    "outlier_down=list(missing_data[missing_data.sum(axis=1)>= (0.5*262800)].index)"
   ]
  },
  {
   "cell_type": "code",
   "execution_count": 22,
   "metadata": {},
   "outputs": [
    {
     "data": {
      "text/plain": [
       "[20, 725, 304, 551, 836, 778, 838, 835, 839]"
      ]
     },
     "execution_count": 22,
     "metadata": {},
     "output_type": "execute_result"
    }
   ],
   "source": [
    "outlier_down"
   ]
  },
  {
   "cell_type": "code",
   "execution_count": 7,
   "metadata": {},
   "outputs": [],
   "source": [
    "station_change={}\n",
    "for station_id in missing_data.sum(axis=1).sort_values().index[0:]:\n",
    "    \n",
    "    #print(df[df['operator_id']==station_id]['spaces'].diff().astype(bool).sum(axis=0))\n",
    "    station_change[station_id]=df[df['operator_id']==station_id]['spaces'].diff().astype(bool).sum(axis=0)\n",
    "    #break"
   ]
  },
  {
   "cell_type": "code",
   "execution_count": 24,
   "metadata": {},
   "outputs": [],
   "source": [
    "df_change_count_with_outlier=pd.DataFrame(station_change.items(), columns=['station_id', 'change_count'])"
   ]
  },
  {
   "cell_type": "code",
   "execution_count": 25,
   "metadata": {},
   "outputs": [
    {
     "data": {
      "text/html": [
       "<div>\n",
       "<style scoped>\n",
       "    .dataframe tbody tr th:only-of-type {\n",
       "        vertical-align: middle;\n",
       "    }\n",
       "\n",
       "    .dataframe tbody tr th {\n",
       "        vertical-align: top;\n",
       "    }\n",
       "\n",
       "    .dataframe thead th {\n",
       "        text-align: right;\n",
       "    }\n",
       "</style>\n",
       "<table border=\"1\" class=\"dataframe\">\n",
       "  <thead>\n",
       "    <tr style=\"text-align: right;\">\n",
       "      <th></th>\n",
       "      <th>station_id</th>\n",
       "      <th>change_count</th>\n",
       "    </tr>\n",
       "  </thead>\n",
       "  <tbody>\n",
       "    <tr>\n",
       "      <th>521</th>\n",
       "      <td>14</td>\n",
       "      <td>73497</td>\n",
       "    </tr>\n",
       "    <tr>\n",
       "      <th>592</th>\n",
       "      <td>194</td>\n",
       "      <td>68178</td>\n",
       "    </tr>\n",
       "    <tr>\n",
       "      <th>732</th>\n",
       "      <td>191</td>\n",
       "      <td>59828</td>\n",
       "    </tr>\n",
       "    <tr>\n",
       "      <th>103</th>\n",
       "      <td>251</td>\n",
       "      <td>59541</td>\n",
       "    </tr>\n",
       "    <tr>\n",
       "      <th>667</th>\n",
       "      <td>374</td>\n",
       "      <td>59324</td>\n",
       "    </tr>\n",
       "  </tbody>\n",
       "</table>\n",
       "</div>"
      ],
      "text/plain": [
       "     station_id  change_count\n",
       "521          14         73497\n",
       "592         194         68178\n",
       "732         191         59828\n",
       "103         251         59541\n",
       "667         374         59324"
      ]
     },
     "execution_count": 25,
     "metadata": {},
     "output_type": "execute_result"
    }
   ],
   "source": [
    "df_change_count_with_outlier.sort_values('change_count',ascending=False).head()"
   ]
  },
  {
   "cell_type": "code",
   "execution_count": 26,
   "metadata": {},
   "outputs": [],
   "source": [
    "df_change_count=df_change_count_with_outlier[~df_change_count_with_outlier['station_id'].isin(outlier_down)]\n",
    "df_change_count=df_change_count[~df_change_count['station_id'].isin([14,194])]"
   ]
  },
  {
   "cell_type": "code",
   "execution_count": 27,
   "metadata": {},
   "outputs": [
    {
     "data": {
      "text/plain": [
       "Text(0, 0.5, 'Frequency of the stations')"
      ]
     },
     "execution_count": 27,
     "metadata": {},
     "output_type": "execute_result"
    },
    {
     "data": {
      "image/png": "[encoded data removed]",
      "text/plain": [
       "<Figure size 720x504 with 1 Axes>"
      ]
     },
     "metadata": {},
     "output_type": "display_data"
    }
   ],
   "source": [
    "fig, ax = plt.subplots(figsize=(10,7))\n",
    "sns.set_style(\"darkgrid\")\n",
    "plt.hist(df_change_count['change_count'],bins=7)\n",
    "ax.set_xticklabels(['','very infreq','infreq','somewhat infreq','neutral','somewhat freq','freq','very freq'],fontsize=11)\n",
    "ax.set_ylabel('Frequency of the stations',fontsize=12)\n"
   ]
  },
  {
   "cell_type": "code",
   "execution_count": 28,
   "metadata": {},
   "outputs": [
    {
     "data": {
      "text/plain": [
       "array([102, 267, 245,  99,  45,  22,   5])"
      ]
     },
     "execution_count": 28,
     "metadata": {},
     "output_type": "execute_result"
    }
   ],
   "source": [
    "count, division = np.histogram(df_change_count['change_count'], bins =7)\n",
    "count"
   ]
  },
  {
   "cell_type": "code",
   "execution_count": 29,
   "metadata": {},
   "outputs": [
    {
     "data": {
      "text/plain": [
       "array([  959.        ,  9368.85714286, 17778.71428571, 26188.57142857,\n",
       "       34598.42857143, 43008.28571429, 51418.14285714, 59828.        ])"
      ]
     },
     "execution_count": 29,
     "metadata": {},
     "output_type": "execute_result"
    }
   ],
   "source": [
    "division"
   ]
  },
  {
   "cell_type": "code",
   "execution_count": 32,
   "metadata": {},
   "outputs": [
    {
     "data": {
      "text/html": [
       "<div>\n",
       "<style scoped>\n",
       "    .dataframe tbody tr th:only-of-type {\n",
       "        vertical-align: middle;\n",
       "    }\n",
       "\n",
       "    .dataframe tbody tr th {\n",
       "        vertical-align: top;\n",
       "    }\n",
       "\n",
       "    .dataframe thead th {\n",
       "        text-align: right;\n",
       "    }\n",
       "</style>\n",
       "<table border=\"1\" class=\"dataframe\">\n",
       "  <thead>\n",
       "    <tr style=\"text-align: right;\">\n",
       "      <th></th>\n",
       "      <th>station_id</th>\n",
       "      <th>change_count</th>\n",
       "    </tr>\n",
       "  </thead>\n",
       "  <tbody>\n",
       "    <tr>\n",
       "      <th>6</th>\n",
       "      <td>39</td>\n",
       "      <td>45287</td>\n",
       "    </tr>\n",
       "    <tr>\n",
       "      <th>28</th>\n",
       "      <td>133</td>\n",
       "      <td>39835</td>\n",
       "    </tr>\n",
       "    <tr>\n",
       "      <th>41</th>\n",
       "      <td>217</td>\n",
       "      <td>49000</td>\n",
       "    </tr>\n",
       "    <tr>\n",
       "      <th>46</th>\n",
       "      <td>290</td>\n",
       "      <td>37324</td>\n",
       "    </tr>\n",
       "    <tr>\n",
       "      <th>62</th>\n",
       "      <td>213</td>\n",
       "      <td>43556</td>\n",
       "    </tr>\n",
       "  </tbody>\n",
       "</table>\n",
       "</div>"
      ],
      "text/plain": [
       "    station_id  change_count\n",
       "6           39         45287\n",
       "28         133         39835\n",
       "41         217         49000\n",
       "46         290         37324\n",
       "62         213         43556"
      ]
     },
     "execution_count": 32,
     "metadata": {},
     "output_type": "execute_result"
    }
   ],
   "source": [
    "sample_stations=df_change_count_with_outlier[df_change_count_with_outlier['change_count']>34598]\n",
    "sample_stations.head()"
   ]
  },
  {
   "cell_type": "code",
   "execution_count": 33,
   "metadata": {},
   "outputs": [
    {
     "name": "stdout",
     "output_type": "stream",
     "text": [
      "<class 'pandas.core.frame.DataFrame'>\n",
      "Int64Index: 74 entries, 6 to 732\n",
      "Data columns (total 2 columns):\n",
      " #   Column        Non-Null Count  Dtype\n",
      "---  ------        --------------  -----\n",
      " 0   station_id    74 non-null     int64\n",
      " 1   change_count  74 non-null     int64\n",
      "dtypes: int64(2)\n",
      "memory usage: 1.7 KB\n"
     ]
    }
   ],
   "source": [
    "sample_stations.info()"
   ]
  },
  {
   "cell_type": "code",
   "execution_count": 34,
   "metadata": {},
   "outputs": [],
   "source": [
    "useless_stations=[]\n",
    "for i in missing_data.columns:\n",
    "    \n",
    "    if int(i) in [1,3,5,7,8,10,12]:\n",
    "           \n",
    "        useless_stations.extend(list(missing_data.loc[missing_data[i] > (0.1*22320)].index))\n",
    "    elif int(i)==2:\n",
    "        useless_stations.extend(list(missing_data.loc[missing_data[i] > (0.1*20160)].index))\n",
    "\n",
    "    else:\n",
    "        useless_stations.extend(list(missing_data.loc[missing_data[i] > (0.1*21600)].index))\n",
    "            "
   ]
  },
  {
   "cell_type": "code",
   "execution_count": 35,
   "metadata": {},
   "outputs": [
    {
     "data": {
      "text/plain": [
       "271"
      ]
     },
     "execution_count": 35,
     "metadata": {},
     "output_type": "execute_result"
    }
   ],
   "source": [
    "len(useless_stations)"
   ]
  },
  {
   "cell_type": "code",
   "execution_count": 36,
   "metadata": {},
   "outputs": [
    {
     "name": "stdout",
     "output_type": "stream",
     "text": [
      "<class 'pandas.core.frame.DataFrame'>\n",
      "Int64Index: 68 entries, 6 to 705\n",
      "Data columns (total 2 columns):\n",
      " #   Column        Non-Null Count  Dtype\n",
      "---  ------        --------------  -----\n",
      " 0   station_id    68 non-null     int64\n",
      " 1   change_count  68 non-null     int64\n",
      "dtypes: int64(2)\n",
      "memory usage: 1.6 KB\n"
     ]
    }
   ],
   "source": [
    "sample_stations=sample_stations[~sample_stations['station_id'].isin(useless_stations)]\n",
    "sample_stations.info()"
   ]
  },
  {
   "cell_type": "code",
   "execution_count": 37,
   "metadata": {},
   "outputs": [],
   "source": [
    "import folium\n",
    "import seaborn as sns\n",
    "%matplotlib inline"
   ]
  },
  {
   "cell_type": "code",
   "execution_count": 4,
   "metadata": {},
   "outputs": [
    {
     "data": {
      "text/html": [
       "<div>\n",
       "<style scoped>\n",
       "    .dataframe tbody tr th:only-of-type {\n",
       "        vertical-align: middle;\n",
       "    }\n",
       "\n",
       "    .dataframe tbody tr th {\n",
       "        vertical-align: top;\n",
       "    }\n",
       "\n",
       "    .dataframe thead th {\n",
       "        text-align: right;\n",
       "    }\n",
       "</style>\n",
       "<table border=\"1\" class=\"dataframe\">\n",
       "  <thead>\n",
       "    <tr style=\"text-align: right;\">\n",
       "      <th></th>\n",
       "      <th>ucl_id</th>\n",
       "      <th>operator_intid</th>\n",
       "      <th>operator_altid</th>\n",
       "      <th>operator_name</th>\n",
       "      <th>lat</th>\n",
       "      <th>lon</th>\n",
       "      <th>initial_bikes</th>\n",
       "      <th>initial_size</th>\n",
       "      <th>curr_bikes</th>\n",
       "      <th>curr_size</th>\n",
       "      <th>created_dt</th>\n",
       "      <th>updated_dt</th>\n",
       "      <th>neighbors_1</th>\n",
       "      <th>neighbors_2</th>\n",
       "    </tr>\n",
       "  </thead>\n",
       "  <tbody>\n",
       "    <tr>\n",
       "      <th>0</th>\n",
       "      <td>836</td>\n",
       "      <td>0</td>\n",
       "      <td>0</td>\n",
       "      <td>York Way, Kings Cross</td>\n",
       "      <td>51.541596</td>\n",
       "      <td>-0.125441</td>\n",
       "      <td>1</td>\n",
       "      <td>24</td>\n",
       "      <td>4</td>\n",
       "      <td>24</td>\n",
       "      <td>2018-09-06 11:58:04</td>\n",
       "      <td>2020-02-14 17:38:02</td>\n",
       "      <td>[]</td>\n",
       "      <td>[806, 804, 431, 362, 34]</td>\n",
       "    </tr>\n",
       "    <tr>\n",
       "      <th>1</th>\n",
       "      <td>234</td>\n",
       "      <td>234</td>\n",
       "      <td>234</td>\n",
       "      <td>Liverpool Road (N1 Centre), Angel</td>\n",
       "      <td>51.534504</td>\n",
       "      <td>-0.106993</td>\n",
       "      <td>8</td>\n",
       "      <td>24</td>\n",
       "      <td>7</td>\n",
       "      <td>24</td>\n",
       "      <td>2010-08-06 01:00:00</td>\n",
       "      <td>2020-02-14 17:38:02</td>\n",
       "      <td>[75, 93]</td>\n",
       "      <td>[93, 75, 339, 695, 189]</td>\n",
       "    </tr>\n",
       "    <tr>\n",
       "      <th>2</th>\n",
       "      <td>117</td>\n",
       "      <td>117</td>\n",
       "      <td>117</td>\n",
       "      <td>Lollard Street, Vauxhall</td>\n",
       "      <td>51.492881</td>\n",
       "      <td>-0.114934</td>\n",
       "      <td>11</td>\n",
       "      <td>25</td>\n",
       "      <td>9</td>\n",
       "      <td>25</td>\n",
       "      <td>2010-08-06 01:00:00</td>\n",
       "      <td>2020-02-14 17:38:02</td>\n",
       "      <td>[310, 91]</td>\n",
       "      <td>[310, 91, 139, 441, 86]</td>\n",
       "    </tr>\n",
       "    <tr>\n",
       "      <th>3</th>\n",
       "      <td>120</td>\n",
       "      <td>120</td>\n",
       "      <td>120</td>\n",
       "      <td>The Guildhall, Guildhall</td>\n",
       "      <td>51.515735</td>\n",
       "      <td>-0.093081</td>\n",
       "      <td>12</td>\n",
       "      <td>17</td>\n",
       "      <td>10</td>\n",
       "      <td>17</td>\n",
       "      <td>2010-08-06 01:00:00</td>\n",
       "      <td>2020-02-14 17:38:02</td>\n",
       "      <td>[427, 127, 838]</td>\n",
       "      <td>[127, 427, 838, 509, 126]</td>\n",
       "    </tr>\n",
       "    <tr>\n",
       "      <th>4</th>\n",
       "      <td>343</td>\n",
       "      <td>343</td>\n",
       "      <td>343</td>\n",
       "      <td>London Zoo Car Park, The Regent's Park</td>\n",
       "      <td>51.536922</td>\n",
       "      <td>-0.150181</td>\n",
       "      <td>29</td>\n",
       "      <td>36</td>\n",
       "      <td>5</td>\n",
       "      <td>36</td>\n",
       "      <td>2015-05-21 14:50:02</td>\n",
       "      <td>2020-02-14 17:38:02</td>\n",
       "      <td>[535]</td>\n",
       "      <td>[535, 456, 271, 545, 572]</td>\n",
       "    </tr>\n",
       "  </tbody>\n",
       "</table>\n",
       "</div>"
      ],
      "text/plain": [
       "   ucl_id  operator_intid  operator_altid  \\\n",
       "0     836               0               0   \n",
       "1     234             234             234   \n",
       "2     117             117             117   \n",
       "3     120             120             120   \n",
       "4     343             343             343   \n",
       "\n",
       "                            operator_name        lat       lon  initial_bikes  \\\n",
       "0                   York Way, Kings Cross  51.541596 -0.125441              1   \n",
       "1       Liverpool Road (N1 Centre), Angel  51.534504 -0.106993              8   \n",
       "2                Lollard Street, Vauxhall  51.492881 -0.114934             11   \n",
       "3                The Guildhall, Guildhall  51.515735 -0.093081             12   \n",
       "4  London Zoo Car Park, The Regent's Park  51.536922 -0.150181             29   \n",
       "\n",
       "   initial_size  curr_bikes  curr_size           created_dt  \\\n",
       "0            24           4         24  2018-09-06 11:58:04   \n",
       "1            24           7         24  2010-08-06 01:00:00   \n",
       "2            25           9         25  2010-08-06 01:00:00   \n",
       "3            17          10         17  2010-08-06 01:00:00   \n",
       "4            36           5         36  2015-05-21 14:50:02   \n",
       "\n",
       "            updated_dt      neighbors_1                neighbors_2  \n",
       "0  2020-02-14 17:38:02               []   [806, 804, 431, 362, 34]  \n",
       "1  2020-02-14 17:38:02         [75, 93]    [93, 75, 339, 695, 189]  \n",
       "2  2020-02-14 17:38:02        [310, 91]    [310, 91, 139, 441, 86]  \n",
       "3  2020-02-14 17:38:02  [427, 127, 838]  [127, 427, 838, 509, 126]  \n",
       "4  2020-02-14 17:38:02            [535]  [535, 456, 271, 545, 572]  "
      ]
     },
     "execution_count": 4,
     "metadata": {},
     "output_type": "execute_result"
    }
   ],
   "source": [
    "# the data is also stored in master_thesis/SampleData/bikelocations_london.csv\n",
    "station_df=pd.read_csv('SampleData/Station_df.csv',index_col=0)\n",
    "station_df.head()"
   ]
  },
  {
   "cell_type": "code",
   "execution_count": 5,
   "metadata": {},
   "outputs": [
    {
     "data": {
      "text/html": [
       "<div>\n",
       "<style scoped>\n",
       "    .dataframe tbody tr th:only-of-type {\n",
       "        vertical-align: middle;\n",
       "    }\n",
       "\n",
       "    .dataframe tbody tr th {\n",
       "        vertical-align: top;\n",
       "    }\n",
       "\n",
       "    .dataframe thead th {\n",
       "        text-align: right;\n",
       "    }\n",
       "</style>\n",
       "<table border=\"1\" class=\"dataframe\">\n",
       "  <thead>\n",
       "    <tr style=\"text-align: right;\">\n",
       "      <th></th>\n",
       "      <th>ucl_id</th>\n",
       "      <th>operator_intid</th>\n",
       "      <th>operator_altid</th>\n",
       "      <th>operator_name</th>\n",
       "      <th>lat</th>\n",
       "      <th>lon</th>\n",
       "      <th>initial_bikes</th>\n",
       "      <th>initial_size</th>\n",
       "      <th>curr_bikes</th>\n",
       "      <th>curr_size</th>\n",
       "      <th>created_dt</th>\n",
       "      <th>updated_dt</th>\n",
       "      <th>neighbors_1</th>\n",
       "      <th>neighbors_2</th>\n",
       "    </tr>\n",
       "  </thead>\n",
       "  <tbody>\n",
       "    <tr>\n",
       "      <th>260</th>\n",
       "      <td>109</td>\n",
       "      <td>109</td>\n",
       "      <td>109</td>\n",
       "      <td>Soho Square , Soho</td>\n",
       "      <td>51.515631</td>\n",
       "      <td>-0.132329</td>\n",
       "      <td>29</td>\n",
       "      <td>37</td>\n",
       "      <td>35</td>\n",
       "      <td>57</td>\n",
       "      <td>2010-08-06 01:00:00</td>\n",
       "      <td>2020-02-14 17:38:02</td>\n",
       "      <td>[386, 383, 244]</td>\n",
       "      <td>[244, 386, 383, 260, 88]</td>\n",
       "    </tr>\n",
       "  </tbody>\n",
       "</table>\n",
       "</div>"
      ],
      "text/plain": [
       "     ucl_id  operator_intid  operator_altid       operator_name        lat  \\\n",
       "260     109             109             109  Soho Square , Soho  51.515631   \n",
       "\n",
       "          lon  initial_bikes  initial_size  curr_bikes  curr_size  \\\n",
       "260 -0.132329             29            37          35         57   \n",
       "\n",
       "              created_dt           updated_dt      neighbors_1  \\\n",
       "260  2010-08-06 01:00:00  2020-02-14 17:38:02  [386, 383, 244]   \n",
       "\n",
       "                  neighbors_2  \n",
       "260  [244, 386, 383, 260, 88]  "
      ]
     },
     "execution_count": 5,
     "metadata": {},
     "output_type": "execute_result"
    }
   ],
   "source": [
    "station_df[station_df['ucl_id']==109]"
   ]
  },
  {
   "cell_type": "code",
   "execution_count": 6,
   "metadata": {},
   "outputs": [
    {
     "data": {
      "text/html": [
       "<div>\n",
       "<style scoped>\n",
       "    .dataframe tbody tr th:only-of-type {\n",
       "        vertical-align: middle;\n",
       "    }\n",
       "\n",
       "    .dataframe tbody tr th {\n",
       "        vertical-align: top;\n",
       "    }\n",
       "\n",
       "    .dataframe thead th {\n",
       "        text-align: right;\n",
       "    }\n",
       "</style>\n",
       "<table border=\"1\" class=\"dataframe\">\n",
       "  <thead>\n",
       "    <tr style=\"text-align: right;\">\n",
       "      <th></th>\n",
       "      <th>ucl_id</th>\n",
       "      <th>operator_intid</th>\n",
       "      <th>operator_altid</th>\n",
       "      <th>operator_name</th>\n",
       "      <th>lat</th>\n",
       "      <th>lon</th>\n",
       "      <th>initial_bikes</th>\n",
       "      <th>initial_size</th>\n",
       "      <th>curr_bikes</th>\n",
       "      <th>curr_size</th>\n",
       "      <th>created_dt</th>\n",
       "      <th>updated_dt</th>\n",
       "      <th>neighbors_1</th>\n",
       "      <th>neighbors_2</th>\n",
       "    </tr>\n",
       "  </thead>\n",
       "  <tbody>\n",
       "    <tr>\n",
       "      <th>573</th>\n",
       "      <td>193</td>\n",
       "      <td>193</td>\n",
       "      <td>193</td>\n",
       "      <td>Bankside Mix, Bankside</td>\n",
       "      <td>51.505818</td>\n",
       "      <td>-0.100186</td>\n",
       "      <td>33</td>\n",
       "      <td>33</td>\n",
       "      <td>38</td>\n",
       "      <td>60</td>\n",
       "      <td>2010-08-06 01:00:00</td>\n",
       "      <td>2020-02-14 17:38:02</td>\n",
       "      <td>[801, 810, 196, 803, 230]</td>\n",
       "      <td>[803, 810, 801, 230, 196]</td>\n",
       "    </tr>\n",
       "  </tbody>\n",
       "</table>\n",
       "</div>"
      ],
      "text/plain": [
       "     ucl_id  operator_intid  operator_altid           operator_name  \\\n",
       "573     193             193             193  Bankside Mix, Bankside   \n",
       "\n",
       "           lat       lon  initial_bikes  initial_size  curr_bikes  curr_size  \\\n",
       "573  51.505818 -0.100186             33            33          38         60   \n",
       "\n",
       "              created_dt           updated_dt                neighbors_1  \\\n",
       "573  2010-08-06 01:00:00  2020-02-14 17:38:02  [801, 810, 196, 803, 230]   \n",
       "\n",
       "                   neighbors_2  \n",
       "573  [803, 810, 801, 230, 196]  "
      ]
     },
     "execution_count": 6,
     "metadata": {},
     "output_type": "execute_result"
    }
   ],
   "source": [
    "station_df[station_df['ucl_id']==193]"
   ]
  },
  {
   "cell_type": "code",
   "execution_count": 7,
   "metadata": {},
   "outputs": [
    {
     "data": {
      "text/html": [
       "<div>\n",
       "<style scoped>\n",
       "    .dataframe tbody tr th:only-of-type {\n",
       "        vertical-align: middle;\n",
       "    }\n",
       "\n",
       "    .dataframe tbody tr th {\n",
       "        vertical-align: top;\n",
       "    }\n",
       "\n",
       "    .dataframe thead th {\n",
       "        text-align: right;\n",
       "    }\n",
       "</style>\n",
       "<table border=\"1\" class=\"dataframe\">\n",
       "  <thead>\n",
       "    <tr style=\"text-align: right;\">\n",
       "      <th></th>\n",
       "      <th>ucl_id</th>\n",
       "      <th>operator_intid</th>\n",
       "      <th>operator_altid</th>\n",
       "      <th>operator_name</th>\n",
       "      <th>lat</th>\n",
       "      <th>lon</th>\n",
       "      <th>initial_bikes</th>\n",
       "      <th>initial_size</th>\n",
       "      <th>curr_bikes</th>\n",
       "      <th>curr_size</th>\n",
       "      <th>created_dt</th>\n",
       "      <th>updated_dt</th>\n",
       "      <th>neighbors_1</th>\n",
       "      <th>neighbors_2</th>\n",
       "    </tr>\n",
       "  </thead>\n",
       "  <tbody>\n",
       "    <tr>\n",
       "      <th>115</th>\n",
       "      <td>194</td>\n",
       "      <td>194</td>\n",
       "      <td>194</td>\n",
       "      <td>Hop Exchange, The Borough</td>\n",
       "      <td>51.504628</td>\n",
       "      <td>-0.091774</td>\n",
       "      <td>18</td>\n",
       "      <td>36</td>\n",
       "      <td>49</td>\n",
       "      <td>56</td>\n",
       "      <td>2010-08-06 01:00:00</td>\n",
       "      <td>2020-02-14 17:38:02</td>\n",
       "      <td>[10]</td>\n",
       "      <td>[10, 732, 801, 9, 269]</td>\n",
       "    </tr>\n",
       "  </tbody>\n",
       "</table>\n",
       "</div>"
      ],
      "text/plain": [
       "     ucl_id  operator_intid  operator_altid              operator_name  \\\n",
       "115     194             194             194  Hop Exchange, The Borough   \n",
       "\n",
       "           lat       lon  initial_bikes  initial_size  curr_bikes  curr_size  \\\n",
       "115  51.504628 -0.091774             18            36          49         56   \n",
       "\n",
       "              created_dt           updated_dt neighbors_1  \\\n",
       "115  2010-08-06 01:00:00  2020-02-14 17:38:02        [10]   \n",
       "\n",
       "                neighbors_2  \n",
       "115  [10, 732, 801, 9, 269]  "
      ]
     },
     "execution_count": 7,
     "metadata": {},
     "output_type": "execute_result"
    }
   ],
   "source": [
    "station_df[station_df['ucl_id']==194]"
   ]
  },
  {
   "cell_type": "code",
   "execution_count": 8,
   "metadata": {},
   "outputs": [
    {
     "data": {
      "text/html": [
       "<div>\n",
       "<style scoped>\n",
       "    .dataframe tbody tr th:only-of-type {\n",
       "        vertical-align: middle;\n",
       "    }\n",
       "\n",
       "    .dataframe tbody tr th {\n",
       "        vertical-align: top;\n",
       "    }\n",
       "\n",
       "    .dataframe thead th {\n",
       "        text-align: right;\n",
       "    }\n",
       "</style>\n",
       "<table border=\"1\" class=\"dataframe\">\n",
       "  <thead>\n",
       "    <tr style=\"text-align: right;\">\n",
       "      <th></th>\n",
       "      <th>ucl_id</th>\n",
       "      <th>operator_intid</th>\n",
       "      <th>operator_altid</th>\n",
       "      <th>operator_name</th>\n",
       "      <th>lat</th>\n",
       "      <th>lon</th>\n",
       "      <th>initial_bikes</th>\n",
       "      <th>initial_size</th>\n",
       "      <th>curr_bikes</th>\n",
       "      <th>curr_size</th>\n",
       "      <th>created_dt</th>\n",
       "      <th>updated_dt</th>\n",
       "      <th>neighbors_1</th>\n",
       "      <th>neighbors_2</th>\n",
       "    </tr>\n",
       "  </thead>\n",
       "  <tbody>\n",
       "    <tr>\n",
       "      <th>756</th>\n",
       "      <td>361</td>\n",
       "      <td>361</td>\n",
       "      <td>361</td>\n",
       "      <td>Waterloo Station 2, Waterloo</td>\n",
       "      <td>51.50392</td>\n",
       "      <td>-0.113426</td>\n",
       "      <td>0</td>\n",
       "      <td>55</td>\n",
       "      <td>15</td>\n",
       "      <td>55</td>\n",
       "      <td>2011-06-29 15:40:02</td>\n",
       "      <td>2020-02-14 17:38:02</td>\n",
       "      <td>[252, 197, 334, 819, 273, 336, 154, 173, 377, ...</td>\n",
       "      <td>[374, 154, 173, 377, 336]</td>\n",
       "    </tr>\n",
       "  </tbody>\n",
       "</table>\n",
       "</div>"
      ],
      "text/plain": [
       "     ucl_id  operator_intid  operator_altid                 operator_name  \\\n",
       "756     361             361             361  Waterloo Station 2, Waterloo   \n",
       "\n",
       "          lat       lon  initial_bikes  initial_size  curr_bikes  curr_size  \\\n",
       "756  51.50392 -0.113426              0            55          15         55   \n",
       "\n",
       "              created_dt           updated_dt  \\\n",
       "756  2011-06-29 15:40:02  2020-02-14 17:38:02   \n",
       "\n",
       "                                           neighbors_1  \\\n",
       "756  [252, 197, 334, 819, 273, 336, 154, 173, 377, ...   \n",
       "\n",
       "                   neighbors_2  \n",
       "756  [374, 154, 173, 377, 336]  "
      ]
     },
     "execution_count": 8,
     "metadata": {},
     "output_type": "execute_result"
    }
   ],
   "source": [
    "station_df[station_df['ucl_id']==361]"
   ]
  },
  {
   "cell_type": "code",
   "execution_count": 41,
   "metadata": {},
   "outputs": [],
   "source": [
    "sample_stations=pd.merge(station_df,sample_stations,left_on='ucl_id',right_on='station_id',how='inner')"
   ]
  },
  {
   "cell_type": "code",
   "execution_count": 42,
   "metadata": {},
   "outputs": [
    {
     "name": "stdout",
     "output_type": "stream",
     "text": [
      "<class 'pandas.core.frame.DataFrame'>\n",
      "Int64Index: 68 entries, 0 to 67\n",
      "Data columns (total 16 columns):\n",
      " #   Column          Non-Null Count  Dtype  \n",
      "---  ------          --------------  -----  \n",
      " 0   ucl_id          68 non-null     int64  \n",
      " 1   operator_intid  68 non-null     int64  \n",
      " 2   operator_altid  68 non-null     int64  \n",
      " 3   operator_name   68 non-null     object \n",
      " 4   lat             68 non-null     float64\n",
      " 5   lon             68 non-null     float64\n",
      " 6   initial_bikes   68 non-null     int64  \n",
      " 7   initial_size    68 non-null     int64  \n",
      " 8   curr_bikes      68 non-null     int64  \n",
      " 9   curr_size       68 non-null     int64  \n",
      " 10  created_dt      68 non-null     object \n",
      " 11  updated_dt      68 non-null     object \n",
      " 12  neighbors_1     68 non-null     object \n",
      " 13  neighbors_2     68 non-null     object \n",
      " 14  station_id      68 non-null     int64  \n",
      " 15  change_count    68 non-null     int64  \n",
      "dtypes: float64(2), int64(9), object(5)\n",
      "memory usage: 9.0+ KB\n"
     ]
    }
   ],
   "source": [
    "sample_stations.info()"
   ]
  },
  {
   "cell_type": "code",
   "execution_count": 43,
   "metadata": {},
   "outputs": [
    {
     "data": {
      "text/html": [
       "<div>\n",
       "<style scoped>\n",
       "    .dataframe tbody tr th:only-of-type {\n",
       "        vertical-align: middle;\n",
       "    }\n",
       "\n",
       "    .dataframe tbody tr th {\n",
       "        vertical-align: top;\n",
       "    }\n",
       "\n",
       "    .dataframe thead th {\n",
       "        text-align: right;\n",
       "    }\n",
       "</style>\n",
       "<table border=\"1\" class=\"dataframe\">\n",
       "  <thead>\n",
       "    <tr style=\"text-align: right;\">\n",
       "      <th></th>\n",
       "      <th>ucl_id</th>\n",
       "      <th>operator_intid</th>\n",
       "      <th>operator_altid</th>\n",
       "      <th>operator_name</th>\n",
       "      <th>lat</th>\n",
       "      <th>lon</th>\n",
       "      <th>initial_bikes</th>\n",
       "      <th>initial_size</th>\n",
       "      <th>curr_bikes</th>\n",
       "      <th>curr_size</th>\n",
       "      <th>created_dt</th>\n",
       "      <th>updated_dt</th>\n",
       "      <th>neighbors_1</th>\n",
       "      <th>neighbors_2</th>\n",
       "      <th>station_id</th>\n",
       "      <th>change_count</th>\n",
       "    </tr>\n",
       "  </thead>\n",
       "  <tbody>\n",
       "    <tr>\n",
       "      <th>30</th>\n",
       "      <td>331</td>\n",
       "      <td>331</td>\n",
       "      <td>331</td>\n",
       "      <td>Bunhill Row, Moorgate</td>\n",
       "      <td>51.520859</td>\n",
       "      <td>-0.089888</td>\n",
       "      <td>20</td>\n",
       "      <td>30</td>\n",
       "      <td>8</td>\n",
       "      <td>30</td>\n",
       "      <td>2010-08-06 01:00:00</td>\n",
       "      <td>2020-02-14 17:38:02</td>\n",
       "      <td>[215, 275, 140]</td>\n",
       "      <td>[275, 215, 140, 838, 54]</td>\n",
       "      <td>331</td>\n",
       "      <td>34600</td>\n",
       "    </tr>\n",
       "    <tr>\n",
       "      <th>63</th>\n",
       "      <td>214</td>\n",
       "      <td>214</td>\n",
       "      <td>214</td>\n",
       "      <td>Endsleigh Gardens, Euston</td>\n",
       "      <td>51.526838</td>\n",
       "      <td>-0.130504</td>\n",
       "      <td>8</td>\n",
       "      <td>32</td>\n",
       "      <td>25</td>\n",
       "      <td>32</td>\n",
       "      <td>2010-08-06 01:00:00</td>\n",
       "      <td>2020-02-14 17:38:02</td>\n",
       "      <td>[19, 25, 69, 795]</td>\n",
       "      <td>[795, 19, 25, 69, 797]</td>\n",
       "      <td>214</td>\n",
       "      <td>34770</td>\n",
       "    </tr>\n",
       "    <tr>\n",
       "      <th>45</th>\n",
       "      <td>192</td>\n",
       "      <td>192</td>\n",
       "      <td>192</td>\n",
       "      <td>Wardour Street, Soho</td>\n",
       "      <td>51.512515</td>\n",
       "      <td>-0.133202</td>\n",
       "      <td>16</td>\n",
       "      <td>16</td>\n",
       "      <td>13</td>\n",
       "      <td>16</td>\n",
       "      <td>2010-08-06 01:00:00</td>\n",
       "      <td>2020-02-14 17:38:02</td>\n",
       "      <td>[386, 260, 129, 383]</td>\n",
       "      <td>[383, 260, 386, 129, 83]</td>\n",
       "      <td>192</td>\n",
       "      <td>34910</td>\n",
       "    </tr>\n",
       "    <tr>\n",
       "      <th>49</th>\n",
       "      <td>48</td>\n",
       "      <td>48</td>\n",
       "      <td>48</td>\n",
       "      <td>Godliman Street, St. Paul's</td>\n",
       "      <td>51.512484</td>\n",
       "      <td>-0.099141</td>\n",
       "      <td>11</td>\n",
       "      <td>25</td>\n",
       "      <td>11</td>\n",
       "      <td>25</td>\n",
       "      <td>2010-08-06 01:00:00</td>\n",
       "      <td>2020-02-14 17:38:02</td>\n",
       "      <td>[136]</td>\n",
       "      <td>[136, 71, 557, 101, 579]</td>\n",
       "      <td>48</td>\n",
       "      <td>35251</td>\n",
       "    </tr>\n",
       "    <tr>\n",
       "      <th>10</th>\n",
       "      <td>17</td>\n",
       "      <td>17</td>\n",
       "      <td>17</td>\n",
       "      <td>Hatton Wall, Holborn</td>\n",
       "      <td>51.521661</td>\n",
       "      <td>-0.109006</td>\n",
       "      <td>12</td>\n",
       "      <td>26</td>\n",
       "      <td>7</td>\n",
       "      <td>26</td>\n",
       "      <td>2010-08-06 01:00:00</td>\n",
       "      <td>2020-02-14 17:38:02</td>\n",
       "      <td>[72]</td>\n",
       "      <td>[72, 67, 135, 22, 66]</td>\n",
       "      <td>17</td>\n",
       "      <td>35495</td>\n",
       "    </tr>\n",
       "  </tbody>\n",
       "</table>\n",
       "</div>"
      ],
      "text/plain": [
       "    ucl_id  operator_intid  operator_altid                operator_name  \\\n",
       "30     331             331             331        Bunhill Row, Moorgate   \n",
       "63     214             214             214    Endsleigh Gardens, Euston   \n",
       "45     192             192             192         Wardour Street, Soho   \n",
       "49      48              48              48  Godliman Street, St. Paul's   \n",
       "10      17              17              17         Hatton Wall, Holborn   \n",
       "\n",
       "          lat       lon  initial_bikes  initial_size  curr_bikes  curr_size  \\\n",
       "30  51.520859 -0.089888             20            30           8         30   \n",
       "63  51.526838 -0.130504              8            32          25         32   \n",
       "45  51.512515 -0.133202             16            16          13         16   \n",
       "49  51.512484 -0.099141             11            25          11         25   \n",
       "10  51.521661 -0.109006             12            26           7         26   \n",
       "\n",
       "             created_dt           updated_dt           neighbors_1  \\\n",
       "30  2010-08-06 01:00:00  2020-02-14 17:38:02       [215, 275, 140]   \n",
       "63  2010-08-06 01:00:00  2020-02-14 17:38:02     [19, 25, 69, 795]   \n",
       "45  2010-08-06 01:00:00  2020-02-14 17:38:02  [386, 260, 129, 383]   \n",
       "49  2010-08-06 01:00:00  2020-02-14 17:38:02                 [136]   \n",
       "10  2010-08-06 01:00:00  2020-02-14 17:38:02                  [72]   \n",
       "\n",
       "                 neighbors_2  station_id  change_count  \n",
       "30  [275, 215, 140, 838, 54]         331         34600  \n",
       "63    [795, 19, 25, 69, 797]         214         34770  \n",
       "45  [383, 260, 386, 129, 83]         192         34910  \n",
       "49  [136, 71, 557, 101, 579]          48         35251  \n",
       "10     [72, 67, 135, 22, 66]          17         35495  "
      ]
     },
     "execution_count": 43,
     "metadata": {},
     "output_type": "execute_result"
    }
   ],
   "source": [
    "sample_stations.sort_values('change_count').head()"
   ]
  },
  {
   "cell_type": "code",
   "execution_count": 44,
   "metadata": {},
   "outputs": [
    {
     "data": {
      "text/html": [
       "<div>\n",
       "<style scoped>\n",
       "    .dataframe tbody tr th:only-of-type {\n",
       "        vertical-align: middle;\n",
       "    }\n",
       "\n",
       "    .dataframe tbody tr th {\n",
       "        vertical-align: top;\n",
       "    }\n",
       "\n",
       "    .dataframe thead th {\n",
       "        text-align: right;\n",
       "    }\n",
       "</style>\n",
       "<table border=\"1\" class=\"dataframe\">\n",
       "  <thead>\n",
       "    <tr style=\"text-align: right;\">\n",
       "      <th></th>\n",
       "      <th>ucl_id</th>\n",
       "      <th>operator_intid</th>\n",
       "      <th>operator_altid</th>\n",
       "      <th>operator_name</th>\n",
       "      <th>lat</th>\n",
       "      <th>lon</th>\n",
       "      <th>initial_bikes</th>\n",
       "      <th>initial_size</th>\n",
       "      <th>curr_bikes</th>\n",
       "      <th>curr_size</th>\n",
       "      <th>created_dt</th>\n",
       "      <th>updated_dt</th>\n",
       "      <th>neighbors_1</th>\n",
       "      <th>neighbors_2</th>\n",
       "      <th>station_id</th>\n",
       "      <th>change_count</th>\n",
       "    </tr>\n",
       "  </thead>\n",
       "  <tbody>\n",
       "    <tr>\n",
       "      <th>32</th>\n",
       "      <td>427</td>\n",
       "      <td>427</td>\n",
       "      <td>427</td>\n",
       "      <td>Cheapside, Bank</td>\n",
       "      <td>51.513971</td>\n",
       "      <td>-0.09294</td>\n",
       "      <td>24</td>\n",
       "      <td>43</td>\n",
       "      <td>10</td>\n",
       "      <td>43</td>\n",
       "      <td>2011-08-16 12:12:53</td>\n",
       "      <td>2020-02-14 17:38:02</td>\n",
       "      <td>[120, 101]</td>\n",
       "      <td>[120, 101, 579, 127, 340]</td>\n",
       "      <td>427</td>\n",
       "      <td>50139</td>\n",
       "    </tr>\n",
       "  </tbody>\n",
       "</table>\n",
       "</div>"
      ],
      "text/plain": [
       "    ucl_id  operator_intid  operator_altid    operator_name        lat  \\\n",
       "32     427             427             427  Cheapside, Bank  51.513971   \n",
       "\n",
       "        lon  initial_bikes  initial_size  curr_bikes  curr_size  \\\n",
       "32 -0.09294             24            43          10         43   \n",
       "\n",
       "             created_dt           updated_dt neighbors_1  \\\n",
       "32  2011-08-16 12:12:53  2020-02-14 17:38:02  [120, 101]   \n",
       "\n",
       "                  neighbors_2  station_id  change_count  \n",
       "32  [120, 101, 579, 127, 340]         427         50139  "
      ]
     },
     "execution_count": 44,
     "metadata": {},
     "output_type": "execute_result"
    }
   ],
   "source": [
    "sample_stations[sample_stations['ucl_id']==427]"
   ]
  },
  {
   "cell_type": "code",
   "execution_count": 45,
   "metadata": {},
   "outputs": [],
   "source": [
    "import pandas as pd  # Dataframes\n",
    "import numpy as np  # missing data and efficient arrays\n",
    "import folium  # Maps\n",
    "from geopy.geocoders import Nominatim  # Address --> lat & long\n",
    "from time import sleep  # Add in delays, which helps with API calls\n",
    "import requests  # Get information from URLs\n",
    "#from dotenv import load_dotenv # Environment variables\n",
    "from os import getenv  # Environment variables\n",
    "from matplotlib import cm  # Colour schemes\n",
    "from matplotlib.colors import rgb2hex  # rgb --> hex"
   ]
  },
  {
   "cell_type": "code",
   "execution_count": 46,
   "metadata": {},
   "outputs": [],
   "source": [
    "# Create a map focused on London, involving practical columns\n",
    "import json\n",
    "practical_map = folium.Map(location=[51.509865, -0.118092], zoom_start=10, min_zoom=10, tiles=None, overlay=False)\n",
    "\n",
    "# Create a borough marker group\n",
    "\n",
    "#borough_markers = folium.FeatureGroup(name=\"Borough markers\",)\n",
    "\n",
    "# For each borough, add a marker with the borough name\n",
    "\n",
    "    \n",
    "# Add choropleth layers to the map\n",
    "folium.GeoJson(\n",
    "   'Congestion_Charging_Zone.geojson',\n",
    "\n",
    "    #name='geojson'\n",
    ").add_to(practical_map)\n",
    "\n",
    "for index,row in sample_stations.iterrows():\n",
    "   \n",
    "   \n",
    "    folium.CircleMarker( location=[ row['lat'],row['lon'] ], popup=(row['station_id'],row['operator_name']),\n",
    "                radius=row['change_count']*0.00005,\n",
    "                fill_color='red', color='red',\n",
    "                fill_opacity=0.5,).add_to( practical_map )\n",
    "#     else:\n",
    "#         folium.CircleMarker( location=[ row['lat'],row['lon'] ], popup=(row['station_id'],row['operator_name']),\n",
    "#             radius=row['change_count']*0.00005,\n",
    "#             fill_color='blue', color='blue',\n",
    "#             fill_opacity=0.5,).add_to( practical_map )\n",
    "\n",
    "    \n"
   ]
  },
  {
   "cell_type": "code",
   "execution_count": 59,
   "metadata": {},
   "outputs": [
    {
     "data": {
      "text/html": [
       "<div style=\"width:100%;\"><div style=\"position:relative;width:100%;height:0;padding-bottom:60%;\"><iframe src=\"data:text/html;charset=utf-8;base64,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\" style=\"position:absolute;width:100%;height:100%;left:0;top:0;border:none !important;\" allowfullscreen webkitallowfullscreen mozallowfullscreen></iframe></div></div>"
      ],
      "text/plain": [
       "<folium.folium.Map at 0x7f7a6808eb90>"
      ]
     },
     "execution_count": 59,
     "metadata": {},
     "output_type": "execute_result"
    }
   ],
   "source": [
    "# Add the marker feature group to the map\n",
    "\n",
    "#borough_markers.add_to(practical_map)\n",
    "\n",
    "# Add map tiles in as a toggleable feature\n",
    "\n",
    "folium.TileLayer('OpenStreetMap',overlay=True,name=\"Map tiles\").add_to(practical_map)\n",
    "    \n",
    "# Add layer controls to the map\n",
    "\n",
    "folium.LayerControl().add_to(practical_map)\n",
    "\n",
    "# Display the map\n",
    "\n",
    "practical_map"
   ]
  },
  {
   "cell_type": "code",
   "execution_count": 48,
   "metadata": {},
   "outputs": [],
   "source": [
    "import json\n",
    "from shapely.geometry import shape, GeometryCollection, Point\n",
    "from shapely.geometry import Point, Polygon\n",
    "with open('Congestion_Charging_Zone.geojson', 'r') as f:\n",
    "    js = json.load(f)\n",
    "inside_congestion=[]\n",
    "feature= js['features'][0]\n",
    "polygon = shape(feature['geometry'])\n",
    "for index,row in sample_stations.iterrows():\n",
    "    point=Point(row['lon'],row['lat'])\n",
    "    if point.within(polygon):\n",
    "        inside_congestion.append(row['ucl_id'])"
   ]
  },
  {
   "cell_type": "code",
   "execution_count": 49,
   "metadata": {},
   "outputs": [],
   "source": [
    "sample_stations=sample_stations[sample_stations.ucl_id.isin(inside_congestion)]"
   ]
  },
  {
   "cell_type": "code",
   "execution_count": 51,
   "metadata": {},
   "outputs": [
    {
     "name": "stdout",
     "output_type": "stream",
     "text": [
      "<class 'pandas.core.frame.DataFrame'>\n",
      "Int64Index: 47 entries, 0 to 65\n",
      "Data columns (total 16 columns):\n",
      " #   Column          Non-Null Count  Dtype  \n",
      "---  ------          --------------  -----  \n",
      " 0   ucl_id          47 non-null     int64  \n",
      " 1   operator_intid  47 non-null     int64  \n",
      " 2   operator_altid  47 non-null     int64  \n",
      " 3   operator_name   47 non-null     object \n",
      " 4   lat             47 non-null     float64\n",
      " 5   lon             47 non-null     float64\n",
      " 6   initial_bikes   47 non-null     int64  \n",
      " 7   initial_size    47 non-null     int64  \n",
      " 8   curr_bikes      47 non-null     int64  \n",
      " 9   curr_size       47 non-null     int64  \n",
      " 10  created_dt      47 non-null     object \n",
      " 11  updated_dt      47 non-null     object \n",
      " 12  neighbors_1     47 non-null     object \n",
      " 13  neighbors_2     47 non-null     object \n",
      " 14  station_id      47 non-null     int64  \n",
      " 15  change_count    47 non-null     int64  \n",
      "dtypes: float64(2), int64(9), object(5)\n",
      "memory usage: 6.2+ KB\n"
     ]
    }
   ],
   "source": [
    "sample_stations.info()"
   ]
  },
  {
   "cell_type": "code",
   "execution_count": 92,
   "metadata": {},
   "outputs": [],
   "source": [
    "#only station 785 is in zone 3 which is next to the olympic park"
   ]
  },
  {
   "cell_type": "code",
   "execution_count": 52,
   "metadata": {},
   "outputs": [],
   "source": [
    "practical_map.save('folium_london.html')\n"
   ]
  },
  {
   "cell_type": "code",
   "execution_count": 53,
   "metadata": {},
   "outputs": [],
   "source": [
    "sample_stations.to_csv('SampleData/sample_stations.csv')"
   ]
  },
  {
   "cell_type": "code",
   "execution_count": 54,
   "metadata": {},
   "outputs": [],
   "source": [
    "s1=[12,116,32,195,66,17,130,278,553,101,579,703,109,356,404,73,71,228,331,251,427,229,217,95,246,64,340,192,55,428,48,\n",
    "199,159,541,717,133,154,338,341,732,18,361,290,14,194]"
   ]
  },
  {
   "cell_type": "code",
   "execution_count": 55,
   "metadata": {},
   "outputs": [
    {
     "data": {
      "text/plain": [
       "45"
      ]
     },
     "execution_count": 55,
     "metadata": {},
     "output_type": "execute_result"
    }
   ],
   "source": [
    "len(s1)"
   ]
  },
  {
   "cell_type": "code",
   "execution_count": null,
   "metadata": {},
   "outputs": [],
   "source": [
    "#159 is perfect"
   ]
  },
  {
   "cell_type": "code",
   "execution_count": 322,
   "metadata": {},
   "outputs": [],
   "source": [
    "s2=[202,573,46,74,270,248,695,282,564,39,111,785,177,132,193,272,107,405,737,213,214,374,574]"
   ]
  },
  {
   "cell_type": "code",
   "execution_count": null,
   "metadata": {},
   "outputs": [],
   "source": [
    "#193,107,341,214"
   ]
  },
  {
   "cell_type": "code",
   "execution_count": 58,
   "metadata": {},
   "outputs": [
    {
     "data": {
      "text/plain": [
       "38"
      ]
     },
     "execution_count": 58,
     "metadata": {},
     "output_type": "execute_result"
    }
   ],
   "source": [
    "list(sample_stations[sample_stations['ucl_id'].isin(s1)]['ucl_id'])\n",
    "    "
   ]
  },
  {
   "cell_type": "code",
   "execution_count": 62,
   "metadata": {},
   "outputs": [],
   "source": [
    "sample_df=df[df['operator_id'].isin(list(sample_stations['ucl_id']))]"
   ]
  },
  {
   "cell_type": "code",
   "execution_count": 63,
   "metadata": {},
   "outputs": [],
   "source": [
    "sample_df.to_csv('/bigdata/tara/ind_london_2018_sample.csv')"
   ]
  },
  {
   "cell_type": "code",
   "execution_count": null,
   "metadata": {},
   "outputs": [],
   "source": []
  }
 ],
 "metadata": {
  "kernelspec": {
   "display_name": "Python 3",
   "language": "python",
   "name": "python3"
  },
  "language_info": {
   "codemirror_mode": {
    "name": "ipython",
    "version": 3
   },
   "file_extension": ".py",
   "mimetype": "text/x-python",
   "name": "python",
   "nbconvert_exporter": "python",
   "pygments_lexer": "ipython3",
   "version": "3.7.7"
  }
 },
 "nbformat": 4,
 "nbformat_minor": 2
}
