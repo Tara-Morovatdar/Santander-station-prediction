{
 "cells": [
  {
   "cell_type": "code",
   "execution_count": 3,
   "metadata": {},
   "outputs": [],
   "source": [
    "import pandas as pd\n",
    "import numpy as np\n",
    "import io\n",
    "import os\n",
    "import matplotlib.pyplot as plt\n",
    "import datetime\n",
    "import seaborn as sns\n",
    "import json\n",
    "%matplotlib inline"
   ]
  },
  {
   "cell_type": "code",
   "execution_count": 2,
   "metadata": {},
   "outputs": [],
   "source": [
    "year='2019'"
   ]
  },
  {
   "cell_type": "code",
   "execution_count": 3,
   "metadata": {},
   "outputs": [],
   "source": [
    "frames=[]\n",
    "cols=['StartStation Id','StartStation Name']\n",
    "for file_ in os.listdir('./'+year):\n",
    "    \n",
    "    temp_df=pd.read_csv('./'+year+'/'+file_ , usecols=cols)#, parse_dates=['Start Date','End Date'])   \n",
    "    \n",
    "    \n",
    "    frames.append(temp_df.loc[:,~temp_df.columns.str.contains('^Unnamed')])   \n",
    "    #break"
   ]
  },
  {
   "cell_type": "code",
   "execution_count": 4,
   "metadata": {},
   "outputs": [
    {
     "data": {
      "text/plain": [
       "(7142806, 2)"
      ]
     },
     "execution_count": 4,
     "metadata": {},
     "output_type": "execute_result"
    }
   ],
   "source": [
    "result = pd.concat(frames) \n",
    "df=result.copy()\n",
    "df.shape"
   ]
  },
  {
   "cell_type": "code",
   "execution_count": 6,
   "metadata": {},
   "outputs": [],
   "source": [
    "station_dict={}"
   ]
  },
  {
   "cell_type": "code",
   "execution_count": 7,
   "metadata": {},
   "outputs": [],
   "source": [
    "for index,row in df.iterrows():\n",
    "    if row['StartStation Name'] in station_dict.keys():\n",
    "        continue\n",
    "    else:\n",
    "        station_dict[row['StartStation Name']]=row['StartStation Id']"
   ]
  },
  {
   "cell_type": "code",
   "execution_count": 9,
   "metadata": {},
   "outputs": [],
   "source": [
    "\n",
    "with open('station_dict.json', 'w') as fp:\n",
    "    json.dump(station_dict, fp)"
   ]
  },
  {
   "cell_type": "code",
   "execution_count": 5,
   "metadata": {},
   "outputs": [],
   "source": [
    "with open('station_dict.json') as json_file:\n",
    "    station_dict = json.load(json_file)"
   ]
  },
  {
   "cell_type": "markdown",
   "metadata": {},
   "source": [
    "## fixing 2018"
   ]
  },
  {
   "cell_type": "code",
   "execution_count": 10,
   "metadata": {},
   "outputs": [],
   "source": [
    "#One file in 2018 dont have endstationid column here I try to make that col "
   ]
  },
  {
   "cell_type": "code",
   "execution_count": 9,
   "metadata": {},
   "outputs": [],
   "source": [
    "df=pd.read_csv(\"./2018/134JourneyDataExtract31Oct2018-06Nov2018.csv\")"
   ]
  },
  {
   "cell_type": "code",
   "execution_count": 10,
   "metadata": {},
   "outputs": [
    {
     "data": {
      "text/html": [
       "<div>\n",
       "<style scoped>\n",
       "    .dataframe tbody tr th:only-of-type {\n",
       "        vertical-align: middle;\n",
       "    }\n",
       "\n",
       "    .dataframe tbody tr th {\n",
       "        vertical-align: top;\n",
       "    }\n",
       "\n",
       "    .dataframe thead th {\n",
       "        text-align: right;\n",
       "    }\n",
       "</style>\n",
       "<table border=\"1\" class=\"dataframe\">\n",
       "  <thead>\n",
       "    <tr style=\"text-align: right;\">\n",
       "      <th></th>\n",
       "      <th>Rental Id</th>\n",
       "      <th>Duration</th>\n",
       "      <th>Bike Id</th>\n",
       "      <th>End Date</th>\n",
       "      <th>EndStation Logical Terminal</th>\n",
       "      <th>EndStation Name</th>\n",
       "      <th>Start Date</th>\n",
       "      <th>StartStation Id</th>\n",
       "      <th>StartStation Name</th>\n",
       "    </tr>\n",
       "  </thead>\n",
       "  <tbody>\n",
       "    <tr>\n",
       "      <th>0</th>\n",
       "      <td>81963538</td>\n",
       "      <td>1140</td>\n",
       "      <td>7671</td>\n",
       "      <td>03/11/2018 18:00</td>\n",
       "      <td>300041</td>\n",
       "      <td>Finnis Street, Bethnal Green</td>\n",
       "      <td>03/11/2018 17:41</td>\n",
       "      <td>722</td>\n",
       "      <td>Finnis Street, Bethnal Green</td>\n",
       "    </tr>\n",
       "    <tr>\n",
       "      <th>1</th>\n",
       "      <td>81999133</td>\n",
       "      <td>660</td>\n",
       "      <td>5543</td>\n",
       "      <td>05/11/2018 08:52</td>\n",
       "      <td>22171</td>\n",
       "      <td>Red Lion Street, Holborn</td>\n",
       "      <td>05/11/2018 08:41</td>\n",
       "      <td>361</td>\n",
       "      <td>Waterloo Station 2, Waterloo</td>\n",
       "    </tr>\n",
       "    <tr>\n",
       "      <th>2</th>\n",
       "      <td>82055164</td>\n",
       "      <td>600</td>\n",
       "      <td>7358</td>\n",
       "      <td>06/11/2018 20:09</td>\n",
       "      <td>22171</td>\n",
       "      <td>Red Lion Street, Holborn</td>\n",
       "      <td>06/11/2018 19:59</td>\n",
       "      <td>18</td>\n",
       "      <td>Drury Lane, Covent Garden</td>\n",
       "    </tr>\n",
       "    <tr>\n",
       "      <th>3</th>\n",
       "      <td>82046709</td>\n",
       "      <td>240</td>\n",
       "      <td>6684</td>\n",
       "      <td>06/11/2018 17:24</td>\n",
       "      <td>1157</td>\n",
       "      <td>Black Lion Gate, Kensington Gardens</td>\n",
       "      <td>06/11/2018 17:20</td>\n",
       "      <td>404</td>\n",
       "      <td>Palace Gate, Kensington Gardens</td>\n",
       "    </tr>\n",
       "    <tr>\n",
       "      <th>4</th>\n",
       "      <td>82013994</td>\n",
       "      <td>720</td>\n",
       "      <td>2118</td>\n",
       "      <td>05/11/2018 17:43</td>\n",
       "      <td>2696</td>\n",
       "      <td>Waterloo Station 1, Waterloo</td>\n",
       "      <td>05/11/2018 17:31</td>\n",
       "      <td>436</td>\n",
       "      <td>Red Lion Street, Holborn</td>\n",
       "    </tr>\n",
       "  </tbody>\n",
       "</table>\n",
       "</div>"
      ],
      "text/plain": [
       "   Rental Id  Duration  Bike Id          End Date  \\\n",
       "0   81963538      1140     7671  03/11/2018 18:00   \n",
       "1   81999133       660     5543  05/11/2018 08:52   \n",
       "2   82055164       600     7358  06/11/2018 20:09   \n",
       "3   82046709       240     6684  06/11/2018 17:24   \n",
       "4   82013994       720     2118  05/11/2018 17:43   \n",
       "\n",
       "   EndStation Logical Terminal                      EndStation Name  \\\n",
       "0                       300041         Finnis Street, Bethnal Green   \n",
       "1                        22171             Red Lion Street, Holborn   \n",
       "2                        22171             Red Lion Street, Holborn   \n",
       "3                         1157  Black Lion Gate, Kensington Gardens   \n",
       "4                         2696         Waterloo Station 1, Waterloo   \n",
       "\n",
       "         Start Date  StartStation Id                StartStation Name  \n",
       "0  03/11/2018 17:41              722     Finnis Street, Bethnal Green  \n",
       "1  05/11/2018 08:41              361     Waterloo Station 2, Waterloo  \n",
       "2  06/11/2018 19:59               18        Drury Lane, Covent Garden  \n",
       "3  06/11/2018 17:20              404  Palace Gate, Kensington Gardens  \n",
       "4  05/11/2018 17:31              436         Red Lion Street, Holborn  "
      ]
     },
     "execution_count": 10,
     "metadata": {},
     "output_type": "execute_result"
    }
   ],
   "source": [
    "df.head()"
   ]
  },
  {
   "cell_type": "code",
   "execution_count": 11,
   "metadata": {},
   "outputs": [],
   "source": [
    "df[\"EndStation Id\"]=''"
   ]
  },
  {
   "cell_type": "code",
   "execution_count": 13,
   "metadata": {},
   "outputs": [],
   "source": [
    "for index,row in df.iterrows():\n",
    "    try:\n",
    "        #print(station_dict[row['EndStation Name']])\n",
    "        df.loc[index,\"EndStation Id\"]= station_dict[row['EndStation Name']]\n",
    "        \n",
    "    except:        \n",
    "        df.loc[index,\"EndStation Id\"]= ''\n",
    "        \n",
    "        \n",
    "    "
   ]
  },
  {
   "cell_type": "code",
   "execution_count": 14,
   "metadata": {},
   "outputs": [
    {
     "data": {
      "text/html": [
       "<div>\n",
       "<style scoped>\n",
       "    .dataframe tbody tr th:only-of-type {\n",
       "        vertical-align: middle;\n",
       "    }\n",
       "\n",
       "    .dataframe tbody tr th {\n",
       "        vertical-align: top;\n",
       "    }\n",
       "\n",
       "    .dataframe thead th {\n",
       "        text-align: right;\n",
       "    }\n",
       "</style>\n",
       "<table border=\"1\" class=\"dataframe\">\n",
       "  <thead>\n",
       "    <tr style=\"text-align: right;\">\n",
       "      <th></th>\n",
       "      <th>Rental Id</th>\n",
       "      <th>Duration</th>\n",
       "      <th>Bike Id</th>\n",
       "      <th>End Date</th>\n",
       "      <th>EndStation Logical Terminal</th>\n",
       "      <th>EndStation Name</th>\n",
       "      <th>Start Date</th>\n",
       "      <th>StartStation Id</th>\n",
       "      <th>StartStation Name</th>\n",
       "      <th>EndStation Id</th>\n",
       "    </tr>\n",
       "  </thead>\n",
       "  <tbody>\n",
       "    <tr>\n",
       "      <th>0</th>\n",
       "      <td>81963538</td>\n",
       "      <td>1140</td>\n",
       "      <td>7671</td>\n",
       "      <td>03/11/2018 18:00</td>\n",
       "      <td>300041</td>\n",
       "      <td>Finnis Street, Bethnal Green</td>\n",
       "      <td>03/11/2018 17:41</td>\n",
       "      <td>722</td>\n",
       "      <td>Finnis Street, Bethnal Green</td>\n",
       "      <td>722</td>\n",
       "    </tr>\n",
       "    <tr>\n",
       "      <th>1</th>\n",
       "      <td>81999133</td>\n",
       "      <td>660</td>\n",
       "      <td>5543</td>\n",
       "      <td>05/11/2018 08:52</td>\n",
       "      <td>22171</td>\n",
       "      <td>Red Lion Street, Holborn</td>\n",
       "      <td>05/11/2018 08:41</td>\n",
       "      <td>361</td>\n",
       "      <td>Waterloo Station 2, Waterloo</td>\n",
       "      <td>436</td>\n",
       "    </tr>\n",
       "    <tr>\n",
       "      <th>2</th>\n",
       "      <td>82055164</td>\n",
       "      <td>600</td>\n",
       "      <td>7358</td>\n",
       "      <td>06/11/2018 20:09</td>\n",
       "      <td>22171</td>\n",
       "      <td>Red Lion Street, Holborn</td>\n",
       "      <td>06/11/2018 19:59</td>\n",
       "      <td>18</td>\n",
       "      <td>Drury Lane, Covent Garden</td>\n",
       "      <td>436</td>\n",
       "    </tr>\n",
       "    <tr>\n",
       "      <th>3</th>\n",
       "      <td>82046709</td>\n",
       "      <td>240</td>\n",
       "      <td>6684</td>\n",
       "      <td>06/11/2018 17:24</td>\n",
       "      <td>1157</td>\n",
       "      <td>Black Lion Gate, Kensington Gardens</td>\n",
       "      <td>06/11/2018 17:20</td>\n",
       "      <td>404</td>\n",
       "      <td>Palace Gate, Kensington Gardens</td>\n",
       "      <td>307</td>\n",
       "    </tr>\n",
       "    <tr>\n",
       "      <th>4</th>\n",
       "      <td>82013994</td>\n",
       "      <td>720</td>\n",
       "      <td>2118</td>\n",
       "      <td>05/11/2018 17:43</td>\n",
       "      <td>2696</td>\n",
       "      <td>Waterloo Station 1, Waterloo</td>\n",
       "      <td>05/11/2018 17:31</td>\n",
       "      <td>436</td>\n",
       "      <td>Red Lion Street, Holborn</td>\n",
       "      <td>374</td>\n",
       "    </tr>\n",
       "  </tbody>\n",
       "</table>\n",
       "</div>"
      ],
      "text/plain": [
       "   Rental Id  Duration  Bike Id          End Date  \\\n",
       "0   81963538      1140     7671  03/11/2018 18:00   \n",
       "1   81999133       660     5543  05/11/2018 08:52   \n",
       "2   82055164       600     7358  06/11/2018 20:09   \n",
       "3   82046709       240     6684  06/11/2018 17:24   \n",
       "4   82013994       720     2118  05/11/2018 17:43   \n",
       "\n",
       "   EndStation Logical Terminal                      EndStation Name  \\\n",
       "0                       300041         Finnis Street, Bethnal Green   \n",
       "1                        22171             Red Lion Street, Holborn   \n",
       "2                        22171             Red Lion Street, Holborn   \n",
       "3                         1157  Black Lion Gate, Kensington Gardens   \n",
       "4                         2696         Waterloo Station 1, Waterloo   \n",
       "\n",
       "         Start Date  StartStation Id                StartStation Name  \\\n",
       "0  03/11/2018 17:41              722     Finnis Street, Bethnal Green   \n",
       "1  05/11/2018 08:41              361     Waterloo Station 2, Waterloo   \n",
       "2  06/11/2018 19:59               18        Drury Lane, Covent Garden   \n",
       "3  06/11/2018 17:20              404  Palace Gate, Kensington Gardens   \n",
       "4  05/11/2018 17:31              436         Red Lion Street, Holborn   \n",
       "\n",
       "  EndStation Id  \n",
       "0           722  \n",
       "1           436  \n",
       "2           436  \n",
       "3           307  \n",
       "4           374  "
      ]
     },
     "execution_count": 14,
     "metadata": {},
     "output_type": "execute_result"
    }
   ],
   "source": [
    "df.head()"
   ]
  },
  {
   "cell_type": "code",
   "execution_count": 16,
   "metadata": {},
   "outputs": [],
   "source": [
    "df.to_csv(\"./2018/134JourneyDataExtract31Oct2018-06Nov2018.csv\")"
   ]
  },
  {
   "cell_type": "code",
   "execution_count": null,
   "metadata": {},
   "outputs": [],
   "source": [
    "#Whiteley's, Bayswater / Grant Road Central, Clapham Junction/ Grant Road West, Clapham Junction"
   ]
  },
  {
   "cell_type": "markdown",
   "metadata": {},
   "source": [
    "## fixing 2016"
   ]
  },
  {
   "cell_type": "code",
   "execution_count": 22,
   "metadata": {},
   "outputs": [],
   "source": [
    "year='2016'"
   ]
  },
  {
   "cell_type": "code",
   "execution_count": 24,
   "metadata": {},
   "outputs": [
    {
     "name": "stdout",
     "output_type": "stream",
     "text": [
      "21JourneyDataExtract31Aug2016-06Sep2016.csv\n"
     ]
    }
   ],
   "source": [
    "frames=[]\n",
    "cols=['StartStation Id','EndStation Id']\n",
    "for file_ in os.listdir('./'+year):\n",
    "    try:\n",
    "        \n",
    "        temp_df=pd.read_csv('./'+year+'/'+file_ , usecols=cols)#, parse_dates=['Start Date','End Date'])\n",
    "    \n",
    "    except:\n",
    "        print(file_) "
   ]
  },
  {
   "cell_type": "code",
   "execution_count": 25,
   "metadata": {},
   "outputs": [],
   "source": [
    "df=pd.read_csv(\"./2016/21JourneyDataExtract31Aug2016-06Sep2016.csv\")"
   ]
  },
  {
   "cell_type": "code",
   "execution_count": 26,
   "metadata": {},
   "outputs": [],
   "source": [
    "df[\"EndStation Id\"]=''\n",
    "df[\"StartStation Id\"]=''"
   ]
  },
  {
   "cell_type": "code",
   "execution_count": 27,
   "metadata": {},
   "outputs": [],
   "source": [
    "for index,row in df.iterrows():\n",
    "    try:\n",
    "        #print(station_dict[row['EndStation Name']])\n",
    "        df.loc[index,\"EndStation Id\"]= station_dict[row['EndStation Name']]\n",
    "        \n",
    "    except:        \n",
    "        df.loc[index,\"EndStation Id\"]= ''"
   ]
  },
  {
   "cell_type": "code",
   "execution_count": 28,
   "metadata": {},
   "outputs": [
    {
     "data": {
      "text/html": [
       "<div>\n",
       "<style scoped>\n",
       "    .dataframe tbody tr th:only-of-type {\n",
       "        vertical-align: middle;\n",
       "    }\n",
       "\n",
       "    .dataframe tbody tr th {\n",
       "        vertical-align: top;\n",
       "    }\n",
       "\n",
       "    .dataframe thead th {\n",
       "        text-align: right;\n",
       "    }\n",
       "</style>\n",
       "<table border=\"1\" class=\"dataframe\">\n",
       "  <thead>\n",
       "    <tr style=\"text-align: right;\">\n",
       "      <th></th>\n",
       "      <th>Rental Id</th>\n",
       "      <th>Duration</th>\n",
       "      <th>Bike Id</th>\n",
       "      <th>End Date</th>\n",
       "      <th>EndStation Logical Terminal</th>\n",
       "      <th>EndStation Name</th>\n",
       "      <th>endStationPriority_id</th>\n",
       "      <th>Start Date</th>\n",
       "      <th>StartStation Logical Terminal</th>\n",
       "      <th>StartStation Name</th>\n",
       "      <th>EndStation Id</th>\n",
       "      <th>StartStation Id</th>\n",
       "    </tr>\n",
       "  </thead>\n",
       "  <tbody>\n",
       "    <tr>\n",
       "      <th>0</th>\n",
       "      <td>57834109</td>\n",
       "      <td>720.0</td>\n",
       "      <td>9392</td>\n",
       "      <td>31/08/2016 00:12</td>\n",
       "      <td>200077.0</td>\n",
       "      <td>Vicarage Crescent, Battersea</td>\n",
       "      <td>0.0</td>\n",
       "      <td>31/08/2016 00:00</td>\n",
       "      <td>200237</td>\n",
       "      <td>Parson's Green , Parson's Green</td>\n",
       "      <td>701</td>\n",
       "      <td></td>\n",
       "    </tr>\n",
       "    <tr>\n",
       "      <th>1</th>\n",
       "      <td>57834111</td>\n",
       "      <td>69840.0</td>\n",
       "      <td>12742</td>\n",
       "      <td>31/08/2016 19:24</td>\n",
       "      <td>2637.0</td>\n",
       "      <td>Bermondsey Street, Bermondsey</td>\n",
       "      <td>0.0</td>\n",
       "      <td>31/08/2016 00:00</td>\n",
       "      <td>2637</td>\n",
       "      <td>Bermondsey Street, Bermondsey</td>\n",
       "      <td>321</td>\n",
       "      <td></td>\n",
       "    </tr>\n",
       "    <tr>\n",
       "      <th>2</th>\n",
       "      <td>57834110</td>\n",
       "      <td>30660.0</td>\n",
       "      <td>13499</td>\n",
       "      <td>31/08/2016 08:31</td>\n",
       "      <td>1200.0</td>\n",
       "      <td>Ontario Street, Elephant &amp; Castle</td>\n",
       "      <td>0.0</td>\n",
       "      <td>31/08/2016 00:00</td>\n",
       "      <td>2637</td>\n",
       "      <td>Bermondsey Street, Bermondsey</td>\n",
       "      <td>324</td>\n",
       "      <td></td>\n",
       "    </tr>\n",
       "    <tr>\n",
       "      <th>3</th>\n",
       "      <td>57834106</td>\n",
       "      <td>8280.0</td>\n",
       "      <td>123</td>\n",
       "      <td>31/08/2016 02:18</td>\n",
       "      <td>300200.0</td>\n",
       "      <td>East Village, Queen Elizabeth Olympic Park</td>\n",
       "      <td>0.0</td>\n",
       "      <td>31/08/2016 00:00</td>\n",
       "      <td>1102</td>\n",
       "      <td>Leman Street, Aldgate</td>\n",
       "      <td>784</td>\n",
       "      <td></td>\n",
       "    </tr>\n",
       "    <tr>\n",
       "      <th>4</th>\n",
       "      <td>57834107</td>\n",
       "      <td>660.0</td>\n",
       "      <td>4714</td>\n",
       "      <td>31/08/2016 00:11</td>\n",
       "      <td>22175.0</td>\n",
       "      <td>Canton Street, Poplar</td>\n",
       "      <td>0.0</td>\n",
       "      <td>31/08/2016 00:00</td>\n",
       "      <td>1105</td>\n",
       "      <td>LMU Commercial Road, Whitechapel</td>\n",
       "      <td>487</td>\n",
       "      <td></td>\n",
       "    </tr>\n",
       "  </tbody>\n",
       "</table>\n",
       "</div>"
      ],
      "text/plain": [
       "   Rental Id  Duration  Bike Id          End Date  \\\n",
       "0   57834109     720.0     9392  31/08/2016 00:12   \n",
       "1   57834111   69840.0    12742  31/08/2016 19:24   \n",
       "2   57834110   30660.0    13499  31/08/2016 08:31   \n",
       "3   57834106    8280.0      123  31/08/2016 02:18   \n",
       "4   57834107     660.0     4714  31/08/2016 00:11   \n",
       "\n",
       "   EndStation Logical Terminal                             EndStation Name  \\\n",
       "0                     200077.0                Vicarage Crescent, Battersea   \n",
       "1                       2637.0               Bermondsey Street, Bermondsey   \n",
       "2                       1200.0           Ontario Street, Elephant & Castle   \n",
       "3                     300200.0  East Village, Queen Elizabeth Olympic Park   \n",
       "4                      22175.0                       Canton Street, Poplar   \n",
       "\n",
       "   endStationPriority_id        Start Date  StartStation Logical Terminal  \\\n",
       "0                    0.0  31/08/2016 00:00                         200237   \n",
       "1                    0.0  31/08/2016 00:00                           2637   \n",
       "2                    0.0  31/08/2016 00:00                           2637   \n",
       "3                    0.0  31/08/2016 00:00                           1102   \n",
       "4                    0.0  31/08/2016 00:00                           1105   \n",
       "\n",
       "                  StartStation Name EndStation Id StartStation Id  \n",
       "0   Parson's Green , Parson's Green           701                  \n",
       "1     Bermondsey Street, Bermondsey           321                  \n",
       "2     Bermondsey Street, Bermondsey           324                  \n",
       "3             Leman Street, Aldgate           784                  \n",
       "4  LMU Commercial Road, Whitechapel           487                  "
      ]
     },
     "execution_count": 28,
     "metadata": {},
     "output_type": "execute_result"
    }
   ],
   "source": [
    "df.head()"
   ]
  },
  {
   "cell_type": "code",
   "execution_count": null,
   "metadata": {},
   "outputs": [],
   "source": [
    "df.to_csv(\"./2016/21JourneyDataExtract31Aug2016-06Sep2016.csv\")"
   ]
  },
  {
   "cell_type": "code",
   "execution_count": null,
   "metadata": {},
   "outputs": [],
   "source": [
    "df_18[df_18['StartStation Name']== 'Grant Road Central, Clapham Junction']"
   ]
  },
  {
   "cell_type": "code",
   "execution_count": null,
   "metadata": {},
   "outputs": [],
   "source": []
  }
 ],
 "metadata": {
  "kernelspec": {
   "display_name": "Python 3",
   "language": "python",
   "name": "python3"
  },
  "language_info": {
   "codemirror_mode": {
    "name": "ipython",
    "version": 3
   },
   "file_extension": ".py",
   "mimetype": "text/x-python",
   "name": "python",
   "nbconvert_exporter": "python",
   "pygments_lexer": "ipython3",
   "version": "3.7.7"
  }
 },
 "nbformat": 4,
 "nbformat_minor": 2
}
